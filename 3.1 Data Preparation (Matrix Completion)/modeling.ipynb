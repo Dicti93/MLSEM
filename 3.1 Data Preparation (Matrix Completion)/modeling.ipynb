{
 "cells": [
  {
   "cell_type": "code",
   "execution_count": 62,
   "id": "5d5be731",
   "metadata": {},
   "outputs": [],
   "source": [
    "# Standard imports\n",
    "import pandas as pd\n",
    "import numpy as np\n",
    "import matplotlib.pyplot as plt\n",
    "import seaborn as sns\n",
    "\n",
    "# # scikit-learn imports for machine learning\n",
    "from sklearn.model_selection import train_test_split, GridSearchCV, StratifiedKFold\n",
    "from sklearn.linear_model import LogisticRegression\n",
    "from sklearn.metrics import accuracy_score, confusion_matrix, classification_report, roc_curve, auc\n",
    "from sklearn.preprocessing import LabelEncoder, StandardScaler\n",
    "from sklearn.ensemble import RandomForestClassifier, GradientBoostingClassifier\n",
    "from sklearn.impute import SimpleImputer\n",
    "from sklearn.pipeline import make_pipeline, Pipeline\n",
    "from sklearn.svm import SVC\n",
    "from sklearn.model_selection import cross_val_score\n",
    "from sklearn.model_selection import KFold\n",
    "from sklearn.metrics import make_scorer, accuracy_score, precision_score, recall_score, f1_score, roc_auc_score\n",
    "\n",
    "# # tensorflow for nn\n",
    "import tensorflow as tf\n",
    "from tensorflow.keras.models import Sequential\n",
    "from tensorflow.keras.layers import Dense, Dropout, BatchNormalization, GaussianNoise\n",
    "from tensorflow import keras\n",
    "from tensorflow.keras.callbacks import EarlyStopping, ReduceLROnPlateau\n",
    "from tensorflow.keras.optimizers import Adam"
   ]
  },
  {
   "cell_type": "code",
   "execution_count": 142,
   "id": "811489e5",
   "metadata": {},
   "outputs": [
    {
     "data": {
      "text/plain": [
       "(780, 51)"
      ]
     },
     "execution_count": 142,
     "metadata": {},
     "output_type": "execute_result"
    }
   ],
   "source": [
    "data = pd.read_csv(\"data_mean.csv\")\n",
    "data.shape"
   ]
  },
  {
   "cell_type": "code",
   "execution_count": 143,
   "id": "ae327ae5",
   "metadata": {},
   "outputs": [],
   "source": [
    "# Results storage for confusion matrices, classification reports, and ROC curves\n",
    "confusion_matrices = []\n",
    "roc_curves = []\n",
    "classification_reports = []\n",
    "accuracy = []"
   ]
  },
  {
   "cell_type": "code",
   "execution_count": 144,
   "id": "b1bb0f85",
   "metadata": {},
   "outputs": [],
   "source": [
    "FEATURES = ['Age', 'BMI', 'Sex', 'Height', 'Weight', 'Length_of_Stay',\n",
    "       'Alvarado_Score', 'Paedriatic_Appendicitis_Score', 'Appendix_on_US',\n",
    "       'Appendix_Diameter', 'Migratory_Pain', 'Lower_Right_Abd_Pain',\n",
    "       'Contralateral_Rebound_Tenderness', 'Coughing_Pain', 'Nausea',\n",
    "       'Loss_of_Appetite', 'Body_Temperature', 'WBC_Count',\n",
    "       'Neutrophil_Percentage', 'Segmented_Neutrophils', 'Neutrophilia',\n",
    "       'RBC_Count', 'Hemoglobin', 'RDW', 'Thrombocyte_Count',\n",
    "       'Ketones_in_Urine', 'RBC_in_Urine', 'WBC_in_Urine', 'CRP', 'Dysuria',\n",
    "       'Stool', 'Peritonitis', 'Psoas_Sign', 'Ipsilateral_Rebound_Tenderness',\n",
    "       'US_Performed', 'Free_Fluids', 'Appendix_Wall_Layers', 'Target_Sign',\n",
    "       'Appendicolith', 'Perfusion', 'Perforation',\n",
    "       'Surrounding_Tissue_Reaction', 'Appendicular_Abscess',\n",
    "       'Pathological_Lymph_Nodes', 'Bowel_Wall_Thickening',\n",
    "       'Conglomerate_of_Bowel_Loops', 'Ileus', 'Coprostasis', 'Meteorism',\n",
    "       'Enteritis']\n",
    "\n",
    "TARGET = 'Diagnosis'"
   ]
  },
  {
   "cell_type": "code",
   "execution_count": 145,
   "id": "37e581d9",
   "metadata": {},
   "outputs": [
    {
     "data": {
      "text/plain": [
       "((546, 50), (234, 50), (546,), (234,))"
      ]
     },
     "execution_count": 145,
     "metadata": {},
     "output_type": "execute_result"
    }
   ],
   "source": [
    "X_train, X_test, y_train, y_test = train_test_split(data[FEATURES], data[TARGET], test_size=0.3, random_state=42)\n",
    "\n",
    "X_train.shape, X_test.shape, y_train.shape, y_test.shape"
   ]
  },
  {
   "cell_type": "code",
   "execution_count": 146,
   "id": "eac77204",
   "metadata": {},
   "outputs": [],
   "source": [
    "# Imputer and scaler object\n",
    "imputer = SimpleImputer(strategy='median')\n",
    "scaler = StandardScaler()"
   ]
  },
  {
   "cell_type": "code",
   "execution_count": 151,
   "id": "2f389072",
   "metadata": {},
   "outputs": [
    {
     "name": "stdout",
     "output_type": "stream",
     "text": [
      "Confusion Matrix:\n",
      " [[ 87  13]\n",
      " [ 12 122]]\n",
      " \n",
      "5-fold CV:\n",
      "Accuracy: 0.8992\n",
      "Precision: 0.8992\n",
      "Recall: 0.9144\n",
      "F1: 0.9151\n",
      "False Negative Rate: 0.08955223880597014\n"
     ]
    }
   ],
   "source": [
    "# Create the model and a pipeline\n",
    "rf_model = RandomForestClassifier(n_estimators=100, random_state=42)\n",
    "pipeline = Pipeline(steps=[('imputer', imputer), ('scaler', scaler), ('classifier', rf_model)])\n",
    "\n",
    "# Create confusion matrix\n",
    "pipeline.fit(X_train, y_train)\n",
    "y_pred_rf = pipeline.predict(X_test)\n",
    "cm_rf = confusion_matrix(y_test, y_pred_rf)\n",
    "confusion_matrices.append(cm_rf)\n",
    "\n",
    "# 5 fold CV\n",
    "k_fold = KFold(n_splits=5, shuffle=True, random_state=42)\n",
    "\n",
    "# Calculate Scores\n",
    "cv_scores_accuracy = cross_val_score(pipeline, X_train, y_train, cv=k_fold, scoring=\"accuracy\")\n",
    "mean_cv_accuracy = cv_scores_accuracy.mean()\n",
    "cv_scores_precision = cross_val_score(pipeline, X_train, y_train, cv=k_fold, scoring=\"accuracy\")\n",
    "mean_cv_precision = cv_scores_precision.mean()\n",
    "cv_scores_recall = cross_val_score(pipeline, X_train, y_train, cv=k_fold, scoring=\"recall\")\n",
    "mean_cv_recall = cv_scores_recall.mean()\n",
    "cv_scores_f1 = cross_val_score(pipeline, X_train, y_train, cv=k_fold, scoring=\"f1\")\n",
    "mean_cv_f1 = cv_scores_f1.mean()\n",
    "\n",
    "# Calculating false negative rate\n",
    "tn, fp, fn, tp = cm_rf.ravel()\n",
    "false_negative_rate = fn / (fn + tp)\n",
    "\n",
    "print(\"Confusion Matrix:\\n\", cm_rf)\n",
    "print(\" \")\n",
    "print(\"5-fold CV:\")\n",
    "print(\"Accuracy:\", round(mean_cv_accuracy,4))\n",
    "print(\"Precision:\", round(mean_cv_precision,4))\n",
    "print(\"Recall:\", round(mean_cv_recall,4))\n",
    "print(\"F1:\", round(mean_cv_f1,4))\n",
    "print(\"False Negative Rate:\", round(false_negative_rate,4))"
   ]
  },
  {
   "cell_type": "code",
   "execution_count": 152,
   "id": "df0db7d6",
   "metadata": {},
   "outputs": [
    {
     "name": "stdout",
     "output_type": "stream",
     "text": [
      "Confusion Matrix:\n",
      " [[ 79  21]\n",
      " [ 28 106]]\n",
      " \n",
      "5-fold CV:\n",
      "Accuracy: 0.8058\n",
      "Precision: 0.8058\n",
      "Recall: 0.8471\n",
      "F1: 0.8375\n",
      "False Negative Rate: 0.209\n"
     ]
    }
   ],
   "source": [
    "# Create the model and a pipeline\n",
    "lr_model = LogisticRegression(max_iter=1000, random_state=42)\n",
    "pipeline = Pipeline(steps=[('imputer', imputer), ('scaler', scaler), ('classifier', lr_model)])\n",
    "\n",
    "# Create confusion matrix\n",
    "pipeline.fit(X_train, y_train)\n",
    "y_pred_lr = pipeline.predict(X_test)\n",
    "cm_lr = confusion_matrix(y_test, y_pred_lr)\n",
    "confusion_matrices.append(cm_lr)\n",
    "\n",
    "# 5 fold CV\n",
    "k_fold = KFold(n_splits=5, shuffle=True, random_state=42)\n",
    "\n",
    "# Calculate Scores\n",
    "cv_scores_accuracy = cross_val_score(pipeline, X_train, y_train, cv=k_fold, scoring=\"accuracy\")\n",
    "mean_cv_accuracy = cv_scores_accuracy.mean()\n",
    "cv_scores_precision = cross_val_score(pipeline, X_train, y_train, cv=k_fold, scoring=\"accuracy\")\n",
    "mean_cv_precision = cv_scores_precision.mean()\n",
    "cv_scores_recall = cross_val_score(pipeline, X_train, y_train, cv=k_fold, scoring=\"recall\")\n",
    "mean_cv_recall = cv_scores_recall.mean()\n",
    "cv_scores_f1 = cross_val_score(pipeline, X_train, y_train, cv=k_fold, scoring=\"f1\")\n",
    "mean_cv_f1 = cv_scores_f1.mean()\n",
    "\n",
    "# Calculating false negative rate\n",
    "tn, fp, fn, tp = cm_lr.ravel()\n",
    "false_negative_rate = fn / (fn + tp)\n",
    "\n",
    "print(\"Confusion Matrix:\\n\", cm_lr)\n",
    "print(\" \")\n",
    "print(\"5-fold CV:\")\n",
    "print(\"Accuracy:\", round(mean_cv_accuracy,4))\n",
    "print(\"Precision:\", round(mean_cv_precision,4))\n",
    "print(\"Recall:\", round(mean_cv_recall,4))\n",
    "print(\"F1:\", round(mean_cv_f1,4))\n",
    "print(\"False Negative Rate:\", round(false_negative_rate,4))"
   ]
  },
  {
   "cell_type": "code",
   "execution_count": 153,
   "id": "d5748e95",
   "metadata": {},
   "outputs": [
    {
     "name": "stdout",
     "output_type": "stream",
     "text": [
      "Confusion Matrix:\n",
      " [[ 83  17]\n",
      " [  8 126]]\n",
      " \n",
      "5-fold CV:\n",
      "Accuracy: 0.9084\n",
      "Precision: 0.9084\n",
      "Recall: 0.9449\n",
      "F1: 0.925\n",
      "False Negative Rate: 0.0597\n"
     ]
    }
   ],
   "source": [
    "# Set up the Gradient Boosting Classifier with current learning rate\n",
    "gbs_model = GradientBoostingClassifier(n_estimators=100, learning_rate=0.05, random_state=42)\n",
    "gbs_pipeline = Pipeline([('imputer', SimpleImputer(strategy='median')),('classifier', gbs_model)])\n",
    "\n",
    "# Create confusion matrix\n",
    "gbs_pipeline.fit(X_train, y_train)\n",
    "y_pred_gb = gbs_pipeline.predict(X_test)\n",
    "cm_gb = confusion_matrix(y_test, y_pred_gb)\n",
    "confusion_matrices.append(cm_gb)\n",
    "\n",
    "# 5 fold CV\n",
    "k_fold = KFold(n_splits=5, shuffle=True, random_state=42)\n",
    "\n",
    "# Calculate Scores\n",
    "cv_scores_accuracy = cross_val_score(gbs_pipeline, X_train, y_train, cv=k_fold, scoring=\"accuracy\")\n",
    "mean_cv_accuracy = cv_scores_accuracy.mean()\n",
    "cv_scores_precision = cross_val_score(gbs_pipeline, X_train, y_train, cv=k_fold, scoring=\"accuracy\")\n",
    "mean_cv_precision = cv_scores_precision.mean()\n",
    "cv_scores_recall = cross_val_score(gbs_pipeline, X_train, y_train, cv=k_fold, scoring=\"recall\")\n",
    "mean_cv_recall = cv_scores_recall.mean()\n",
    "cv_scores_f1 = cross_val_score(gbs_pipeline, X_train, y_train, cv=k_fold, scoring=\"f1\")\n",
    "mean_cv_f1 = cv_scores_f1.mean()\n",
    "\n",
    "# Calculating false negative rate\n",
    "tn, fp, fn, tp = cm_gb.ravel()\n",
    "false_negative_rate = fn / (fn + tp)\n",
    "\n",
    "print(\"Confusion Matrix:\\n\", cm_gb)\n",
    "print(\" \")\n",
    "print(\"5-fold CV:\")\n",
    "print(\"Accuracy:\", round(mean_cv_accuracy,4))\n",
    "print(\"Precision:\", round(mean_cv_precision,4))\n",
    "print(\"Recall:\", round(mean_cv_recall,4))\n",
    "print(\"F1:\", round(mean_cv_f1,4))\n",
    "print(\"False Negative Rate:\", round(false_negative_rate,4))"
   ]
  },
  {
   "cell_type": "code",
   "execution_count": 154,
   "id": "8d3f2db6",
   "metadata": {},
   "outputs": [
    {
     "name": "stdout",
     "output_type": "stream",
     "text": [
      "Confusion Matrix:\n",
      " [[ 71  29]\n",
      " [ 21 113]]\n",
      " \n",
      "5-fold CV:\n",
      "Accuracy: 0.7966\n",
      "Precision: 0.7966\n",
      "Recall: 0.869\n",
      "F1: 0.8358\n",
      "False Negative Rate: 0.1567\n"
     ]
    }
   ],
   "source": [
    "# SVM model and pipeline\n",
    "svm_model = SVC(kernel='rbf', C=1.0, random_state=42)\n",
    "svm_pipeline = Pipeline([('imputer', SimpleImputer(strategy='median')), ('scaler', StandardScaler()), ('classifier', svm_model)])\n",
    "\n",
    "# Create confusion matrix\n",
    "svm_pipeline.fit(X_train, y_train)\n",
    "y_pred_svm = svm_pipeline.predict(X_test)\n",
    "cm_svm = confusion_matrix(y_test, y_pred_svm)\n",
    "confusion_matrices.append(cm_svm)\n",
    "\n",
    "# 5 fold CV\n",
    "k_fold = KFold(n_splits=5, shuffle=True, random_state=42)\n",
    "\n",
    "# Calculate Scores\n",
    "cv_scores_accuracy = cross_val_score(svm_pipeline, X_train, y_train, cv=k_fold, scoring=\"accuracy\")\n",
    "mean_cv_accuracy = cv_scores_accuracy.mean()\n",
    "cv_scores_precision = cross_val_score(svm_pipeline, X_train, y_train, cv=k_fold, scoring=\"accuracy\")\n",
    "mean_cv_precision = cv_scores_precision.mean()\n",
    "cv_scores_recall = cross_val_score(svm_pipeline, X_train, y_train, cv=k_fold, scoring=\"recall\")\n",
    "mean_cv_recall = cv_scores_recall.mean()\n",
    "cv_scores_f1 = cross_val_score(svm_pipeline, X_train, y_train, cv=k_fold, scoring=\"f1\")\n",
    "mean_cv_f1 = cv_scores_f1.mean()\n",
    "\n",
    "# Calculating false negative rate\n",
    "tn, fp, fn, tp = cm_svm.ravel()\n",
    "false_negative_rate = fn / (fn + tp)\n",
    "\n",
    "print(\"Confusion Matrix:\\n\", cm_svm)\n",
    "print(\" \")\n",
    "print(\"5-fold CV:\")\n",
    "print(\"Accuracy:\", round(mean_cv_accuracy,4))\n",
    "print(\"Precision:\", round(mean_cv_precision,4))\n",
    "print(\"Recall:\", round(mean_cv_recall,4))\n",
    "print(\"F1:\", round(mean_cv_f1,4))\n",
    "print(\"False Negative Rate:\", round(false_negative_rate,4))"
   ]
  }
 ],
 "metadata": {
  "kernelspec": {
   "display_name": "Python 3 (ipykernel)",
   "language": "python",
   "name": "python3"
  },
  "language_info": {
   "codemirror_mode": {
    "name": "ipython",
    "version": 3
   },
   "file_extension": ".py",
   "mimetype": "text/x-python",
   "name": "python",
   "nbconvert_exporter": "python",
   "pygments_lexer": "ipython3",
   "version": "3.11.5"
  }
 },
 "nbformat": 4,
 "nbformat_minor": 5
}
