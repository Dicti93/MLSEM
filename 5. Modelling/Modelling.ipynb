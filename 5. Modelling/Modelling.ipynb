{
 "cells": [
  {
   "cell_type": "markdown",
   "metadata": {
    "colab_type": "text",
    "id": "view-in-github"
   },
   "source": [
    "<a href=\"https://colab.research.google.com/github/Dicti93/MLSEM/blob/master/5.%20Modelling/Modelling.ipynb\" target=\"_parent\"><img src=\"https://colab.research.google.com/assets/colab-badge.svg\" alt=\"Open In Colab\"/></a>"
   ]
  },
  {
   "cell_type": "code",
   "execution_count": 46,
   "metadata": {
    "id": "XFsRq6ITWb3O"
   },
   "outputs": [],
   "source": [
    "# Standard imports\n",
    "import pandas as pd\n",
    "import numpy as np\n",
    "import matplotlib.pyplot as plt\n",
    "import seaborn as sns\n",
    "\n",
    "# scikit-learn imports for machine learning\n",
    "from sklearn.model_selection import train_test_split, GridSearchCV, StratifiedKFold\n",
    "from sklearn.linear_model import LogisticRegression\n",
    "from sklearn.metrics import accuracy_score, confusion_matrix, classification_report, roc_curve, auc\n",
    "from sklearn.preprocessing import LabelEncoder, StandardScaler\n",
    "from sklearn.ensemble import RandomForestClassifier, GradientBoostingClassifier\n",
    "from sklearn.impute import SimpleImputer\n",
    "from sklearn.pipeline import make_pipeline, Pipeline\n",
    "from sklearn.svm import SVC\n",
    "from sklearn.model_selection import cross_val_score\n",
    "from sklearn.model_selection import cross_val_predict\n",
    "from sklearn.model_selection import KFold\n",
    "from sklearn.metrics import make_scorer, accuracy_score, precision_score, recall_score, f1_score, roc_auc_score\n",
    "from sklearn.naive_bayes import GaussianNB\n",
    "from sklearn.impute import KNNImputer\n",
    "from sklearn.metrics import average_precision_score, make_scorer\n",
    "from sklearn.base import BaseEstimator, TransformerMixin\n",
    "from scipy.stats import mstats\n",
    "\n",
    "# tensorflow for nn\n",
    "import tensorflow as tf\n",
    "from tensorflow.keras.models import Sequential\n",
    "from tensorflow.keras.layers import Dense, Dropout, BatchNormalization, GaussianNoise\n",
    "from tensorflow import keras\n",
    "from tensorflow.keras.callbacks import EarlyStopping, ReduceLROnPlateau\n",
    "from tensorflow.keras.optimizers import Adam\n",
    "\n",
    "# Display Settings\n",
    "pd.set_option('display.max_columns', None)\n",
    "pd.set_option('display.expand_frame_repr', False)\n",
    "pd.set_option('display.width', 240)\n",
    "\n",
    "# Plotting Function\n",
    "def plot_confusion_matrix(cm, title):\n",
    "    plt.figure(figsize=(5, 3))\n",
    "    sns.heatmap(cm, annot=True, fmt=\"d\", linewidths=.5, cmap=\"Blues\")\n",
    "    plt.ylabel('Actual label')\n",
    "    plt.xlabel('Predicted label')\n",
    "    plt.title(title)\n",
    "    plt.show()\n",
    "\n",
    "# Scorer Functions\n",
    "def sensitivity(y_true, y_pred):\n",
    "    cm = confusion_matrix(y_true, y_pred)\n",
    "    sensitivity = cm[1, 1] / (cm[1, 1] + cm[1, 0])\n",
    "    return sensitivity\n",
    "\n",
    "def specificity(y_true, y_pred):\n",
    "    cm = confusion_matrix(y_true, y_pred)\n",
    "    specificity = cm[0, 0] / (cm[0, 0] + cm[0, 1])\n",
    "    return specificity\n",
    "\n",
    "def auroc_scorer(y_true, y_pred):\n",
    "    return roc_auc_score(y_true, y_pred)\n",
    "\n",
    "def aucpr_scorer(y_true, y_pred):\n",
    "    return average_precision_score(y_true, y_pred)\n",
    "\n",
    "sensitivity_scorer = make_scorer(sensitivity)\n",
    "specificity_scorer = make_scorer(specificity)\n",
    "auroc_scorer = make_scorer(auroc_scorer)\n",
    "aucpr_scorer = make_scorer(aucpr_scorer)\n",
    "\n",
    "# Winsorization Class\n",
    "class Winsorizer(BaseEstimator, TransformerMixin):\n",
    "    def __init__(self, columns=None, lower=0.01, upper=0.99):\n",
    "        self.columns = columns\n",
    "        self.lower = lower\n",
    "        self.upper = upper\n",
    "\n",
    "    def fit(self, X, y=None):\n",
    "        # Keine spezielle Anpassung erforderlich\n",
    "        return self\n",
    "\n",
    "    def transform(self, X):\n",
    "        if self.columns is None:\n",
    "            columns = X.columns\n",
    "        else:\n",
    "            columns = self.columns\n",
    "\n",
    "        X_copy = X.copy()\n",
    "        for col in columns:\n",
    "            X_copy[col] = mstats.winsorize(X_copy[col], limits=[self.lower, self.upper])\n",
    "\n",
    "        return X_copy"
   ]
  },
  {
   "cell_type": "code",
   "execution_count": 2,
   "metadata": {
    "colab": {
     "base_uri": "https://localhost:8080/"
    },
    "id": "huAJ-M1fhvhd",
    "outputId": "51b6993b-d48b-405f-9fb7-7e643126e12d"
   },
   "outputs": [
    {
     "data": {
      "text/plain": [
       "(780, 52)"
      ]
     },
     "execution_count": 2,
     "metadata": {},
     "output_type": "execute_result"
    }
   ],
   "source": [
    "# !wget 'https://raw.githubusercontent.com/Dicti93/MLSEM/master/3.%20Data%20Preparation/clean_data.csv' -O clean_data.csv\n",
    "\n",
    "data = pd.read_csv('unfinished_data.csv')\n",
    "data.shape"
   ]
  },
  {
   "cell_type": "code",
   "execution_count": 74,
   "metadata": {},
   "outputs": [],
   "source": [
    "# Features\n",
    "demographic = ['Age', 'Sex', 'Height', 'Weight', 'BMI', 'Length_of_Stay']\n",
    "\n",
    "scoring = ['Alvarado_Score', 'Paedriatic_Appendicitis_Score']\n",
    "\n",
    "clinical = ['Peritonitis', 'Migratory_Pain', 'Lower_Right_Abd_Pain', 'Contralateral_Rebound_Tenderness',\n",
    "            'Ipsilateral_Rebound_Tenderness', 'Coughing_Pain', 'Psoas_Sign', 'Nausea', 'Loss_of_Appetite',\n",
    "            'Body_Temperature', 'Dysuria', 'Stool']\n",
    "\n",
    "laboratory = ['WBC_Count', 'RBC_Count', 'Hemoglobin', 'RDW', 'Thrombocyte_Count', \n",
    "             'Neutrophil_Percentage', 'Neutrophilia', 'Segmented_Neutrophils', \n",
    "             'CRP', 'Ketones_in_Urine', 'RBC_in_Urine', 'WBC_in_Urine']\n",
    "\n",
    "ultrasound = ['US_Performed', 'Appendix_on_US', 'Appendix_Diameter', 'Free_Fluids','Appendix_Wall_Layers', \n",
    "              'Target_Sign', 'Perfusion', 'Surrounding_Tissue_Reaction','Pathological_Lymph_Nodes', \n",
    "              'Lymph_Node_Location', 'Bowel_Wall_Thickening', 'Ileus', 'Coprostasis', 'Meteorism', \n",
    "              'Enteritis', 'Apendicolith', 'Perforation', 'Appendicular_Abscess', 'Abscess_Location', \n",
    "              'Conglomerate_of_Bowel_Loops', 'Gynecological_Findings']\n",
    "\n",
    "continuous = [\n",
    "    \"Age\",\n",
    "    \"Height\",\n",
    "    \"Weight\",\n",
    "    \"BMI\",\n",
    "    \"Length_of_Stay\",\n",
    "    \"Body_Temperature\",\n",
    "    \"WBC_Count\",\n",
    "    \"RBC_Count\",\n",
    "    \"Hemoglobin\",\n",
    "    \"RDW\",\n",
    "    \"Thrombocyte_Count\",\n",
    "    \"Neutrophil_Percentage\",\n",
    "    \"Segmented_Neutrophils\",\n",
    "    \"CRP\",\n",
    "    \"Appendix_Diameter\"\n",
    "]\n",
    "\n",
    "'''\n",
    "extreme_outlier = [\n",
    "    \"BMI\",\n",
    "    \"Body_Temperature\"\n",
    "]\n",
    "'''\n",
    "\n",
    "FEATURES = [\n",
    "    'Appendix_Diameter', \n",
    "    'Length_of_Stay', \n",
    "    'Surrounding_Tissue_Reaction', \n",
    "    'Alvarado_Score', \n",
    "    'Neutrophil_Percentage',\n",
    "    'Appendix_on_US',\n",
    "    'CRP',\n",
    "    'Peritonitis',\n",
    "    'WBC_Count'\n",
    "]\n",
    "\n",
    "TARGET = \"Diagnosis\""
   ]
  },
  {
   "cell_type": "code",
   "execution_count": 75,
   "metadata": {
    "colab": {
     "base_uri": "https://localhost:8080/"
    },
    "id": "_tCXRvGOWgge",
    "outputId": "77c4734a-d033-439c-e25b-381818200277"
   },
   "outputs": [
    {
     "data": {
      "text/plain": [
       "((780, 9), (780,))"
      ]
     },
     "execution_count": 75,
     "metadata": {},
     "output_type": "execute_result"
    }
   ],
   "source": [
    "# X = data.drop('Diagnosis', axis=1)  # Features\n",
    "# y = data['Diagnosis']               # Target variable\n",
    "\n",
    "X = data[FEATURES]\n",
    "y = data[TARGET]\n",
    "\n",
    "X.shape, y.shape"
   ]
  },
  {
   "cell_type": "code",
   "execution_count": 76,
   "metadata": {
    "id": "gjlSZyxyWgeD"
   },
   "outputs": [],
   "source": [
    "# Results storage for confusion matrices, classification reports, and ROC curves\n",
    "models = []\n",
    "accuracy = []\n",
    "accuracy_sd = []\n",
    "sensitivity_list = []\n",
    "sensitivity_sd = []\n",
    "specificity_list = []\n",
    "specificity_sd = []\n",
    "auroc = []\n",
    "auroc_sd = []\n",
    "aucpr = []\n",
    "aucpr_sd = []\n",
    "\n",
    "confusion_matrices = []\n",
    "roc_curves = []"
   ]
  },
  {
   "cell_type": "markdown",
   "metadata": {
    "id": "U6p69RJ2NZNc"
   },
   "source": [
    "## Logistic Regression"
   ]
  },
  {
   "cell_type": "code",
   "execution_count": 78,
   "metadata": {
    "colab": {
     "base_uri": "https://localhost:8080/",
     "height": 524
    },
    "id": "w5I3S4UXNZNe",
    "outputId": "cbc833a3-f528-4992-a4a8-65f1faf971fc"
   },
   "outputs": [
    {
     "name": "stdout",
     "output_type": "stream",
     "text": [
      "10-fold CV:\n",
      "Accuracy: \t 0.879 (± 0.04 )\n",
      "ROC: \t \t 0.881 (± 0.04 )\n",
      "AUCPR: \t \t 0.877 (± 0.05 )\n",
      "Sensitivy: \t 0.875 (± 0.05 )\n",
      "Specificity: \t 0.887 (± 0.0 )\n",
      " \n"
     ]
    },
    {
     "data": {
      "image/png": "[encoded data removed]",
      "text/plain": [
       "<Figure size 500x300 with 2 Axes>"
      ]
     },
     "metadata": {},
     "output_type": "display_data"
    }
   ],
   "source": [
    "# Model & pipeline\n",
    "lr_model = LogisticRegression(max_iter=1000, random_state=123)\n",
    "\n",
    "lr_pipeline = Pipeline([\n",
    "    # ('winsorizer', Winsorizer(columns=extreme_outlier)),\n",
    "    ('scaler', StandardScaler()), \n",
    "    ('imputer', KNNImputer(n_neighbors=5)),\n",
    "    ('classifier', lr_model)\n",
    "])\n",
    "\n",
    "models.append('Logistic Regression')\n",
    "\n",
    "# 10 fold CV\n",
    "splits = 10\n",
    "k_fold = KFold(n_splits=splits, shuffle=True, random_state=123)\n",
    "\n",
    "# Calculate Scores\n",
    "# Confusion Matrix\n",
    "y_pred_cv = cross_val_predict(lr_pipeline, X, y, cv=k_fold)\n",
    "cm_lr = confusion_matrix(y, y_pred_cv)\n",
    "cm_lr = cm_lr / splits\n",
    "cm_lr = np.round(cm_lr,0)\n",
    "cm_lr = cm_lr.astype(int)\n",
    "confusion_matrices.append(cm_lr)\n",
    "\n",
    "# Accuracy\n",
    "cv_scores_accuracy = cross_val_score(lr_pipeline, X_train, y_train, cv=k_fold, scoring=\"accuracy\")\n",
    "mean_cv_accuracy = cv_scores_accuracy.mean()\n",
    "sd_cv_accuracy = cv_scores_accuracy.std()\n",
    "accuracy.append(mean_cv_accuracy)\n",
    "accuracy_sd.append(sd_cv_accuracy)\n",
    "\n",
    "# ROC\n",
    "cv_scores_auroc = cross_val_score(lr_pipeline, X_train, y_train, cv=k_fold, scoring=auroc_scorer)\n",
    "mean_cv_auroc = cv_scores_auroc.mean()\n",
    "sd_cv_auroc = cv_scores_auroc.std()\n",
    "auroc.append(mean_cv_auroc)\n",
    "auroc_sd.append(sd_cv_auroc)\n",
    "\n",
    "# AUCPR\n",
    "cv_scores_aucpr = cross_val_score(lr_pipeline, X_train, y_train, cv=k_fold, scoring=aucpr_scorer)\n",
    "mean_cv_aucpr = cv_scores_aucpr.mean()\n",
    "sd_cv_aucpr = cv_scores_aucpr.std()\n",
    "aucpr.append(mean_cv_aucpr)\n",
    "aucpr_sd.append(sd_cv_aucpr)\n",
    "\n",
    "# Sensitivy\n",
    "cv_scores_sensitivity = cross_val_score(lr_pipeline, X_train, y_train, cv=k_fold, scoring=\"recall\")\n",
    "mean_cv_sensitivity = cv_scores_sensitivity.mean()\n",
    "sd_cv_sensitivity = cv_scores_sensitivity.std()\n",
    "sensitivity_list.append(mean_cv_sensitivity)\n",
    "sensitivity_sd.append(sd_cv_sensitivity)\n",
    "\n",
    "# Specificity\n",
    "cv_scores_specificity = cross_val_score(lr_pipeline, X_train, y_train, cv=k_fold, scoring=specificity_scorer)\n",
    "mean_cv_specificity = cv_scores_specificity.mean()\n",
    "sd_cv_specificity = mean_cv_specificity.std()\n",
    "specificity_list.append(mean_cv_specificity)\n",
    "specificity_sd.append(sd_cv_specificity)\n",
    "\n",
    "# Calculate ROC curve\n",
    "# fpr_lr, tpr_lr, _ = roc_curve(y_test, lr_pipeline.predict_proba(X_test)[:, 1])\n",
    "# roc_curves.append((fpr_lr, tpr_lr))\n",
    "\n",
    "print(\"10-fold CV:\")\n",
    "print(\"Accuracy: \\t\", round(mean_cv_accuracy,3), \"(±\", round(sd_cv_accuracy, 2), \")\")\n",
    "print(\"ROC: \\t \\t\", round(mean_cv_auroc,3), \"(±\", round(sd_cv_auroc, 2), \")\")\n",
    "print(\"AUCPR: \\t \\t\", round(mean_cv_aucpr,3), \"(±\", round(sd_cv_aucpr, 2), \")\")\n",
    "print(\"Sensitivy: \\t\", round(mean_cv_sensitivity,3), \"(±\", round(sd_cv_sensitivity, 2), \")\")\n",
    "print(\"Specificity: \\t\", round(mean_cv_specificity,3), \"(±\", round(sd_cv_specificity, 2), \")\")\n",
    "print(\" \")\n",
    "plot_confusion_matrix(cm_lr, \"Logistic Regression Confusion Matrix\")"
   ]
  },
  {
   "cell_type": "markdown",
   "metadata": {
    "id": "wpExV-aGNZNe"
   },
   "source": [
    "## Naive Bayes Classifier"
   ]
  },
  {
   "cell_type": "code",
   "execution_count": 79,
   "metadata": {},
   "outputs": [
    {
     "name": "stdout",
     "output_type": "stream",
     "text": [
      "10-fold CV:\n",
      "Accuracy: \t 0.645 (± 0.05 )\n",
      "ROC: \t \t 0.697 (± 0.04 )\n",
      "AUCPR: \t \t 0.748 (± 0.05 )\n",
      "Sensitivy: \t 0.426 (± 0.07 )\n",
      "Specificity: \t 0.968 (± 0.0 )\n",
      " \n"
     ]
    },
    {
     "data": {
      "image/png": "[encoded data removed]",
      "text/plain": [
       "<Figure size 500x300 with 2 Axes>"
      ]
     },
     "metadata": {},
     "output_type": "display_data"
    }
   ],
   "source": [
    "# Model & pipeline\n",
    "nb_model = GaussianNB()\n",
    "\n",
    "nb_pipeline = Pipeline([\n",
    "    # ('winsorizer', Winsorizer(columns=extreme_outlier)),\n",
    "    ('scaler', StandardScaler()), \n",
    "    ('imputer', KNNImputer(n_neighbors=5)),\n",
    "    ('classifier', nb_model)\n",
    "])\n",
    "\n",
    "models.append('Naive Bayes')\n",
    "\n",
    "# 10 fold CV\n",
    "splits = 10\n",
    "k_fold = KFold(n_splits=splits, shuffle=True, random_state=123)\n",
    "\n",
    "# Calculate Scores\n",
    "# Confusion Matrix\n",
    "y_pred_cv = cross_val_predict(nb_pipeline, X, y, cv=k_fold)\n",
    "cm_nb = confusion_matrix(y, y_pred_cv)\n",
    "cm_nb = cm_nb / splits\n",
    "cm_nb = np.round(cm_nb,0)\n",
    "cm_nb = cm_nb.astype(int)\n",
    "confusion_matrices.append(cm_nb)\n",
    "\n",
    "# Accuracy\n",
    "cv_scores_accuracy = cross_val_score(nb_pipeline, X_train, y_train, cv=k_fold, scoring=\"accuracy\")\n",
    "mean_cv_accuracy = cv_scores_accuracy.mean()\n",
    "sd_cv_accuracy = cv_scores_accuracy.std()\n",
    "accuracy.append(mean_cv_accuracy)\n",
    "accuracy_sd.append(sd_cv_accuracy)\n",
    "\n",
    "# ROC\n",
    "cv_scores_auroc = cross_val_score(nb_pipeline, X_train, y_train, cv=k_fold, scoring=auroc_scorer)\n",
    "mean_cv_auroc = cv_scores_auroc.mean()\n",
    "sd_cv_auroc = cv_scores_auroc.std()\n",
    "auroc.append(mean_cv_auroc)\n",
    "auroc_sd.append(sd_cv_auroc)\n",
    "\n",
    "# AUCPR\n",
    "cv_scores_aucpr = cross_val_score(nb_pipeline, X_train, y_train, cv=k_fold, scoring=aucpr_scorer)\n",
    "mean_cv_aucpr = cv_scores_aucpr.mean()\n",
    "sd_cv_aucpr = cv_scores_aucpr.std()\n",
    "aucpr.append(mean_cv_aucpr)\n",
    "aucpr_sd.append(sd_cv_aucpr)\n",
    "\n",
    "# Sensitivy\n",
    "cv_scores_sensitivity = cross_val_score(nb_pipeline, X_train, y_train, cv=k_fold, scoring=\"recall\")\n",
    "mean_cv_sensitivity = cv_scores_sensitivity.mean()\n",
    "sd_cv_sensitivity = cv_scores_sensitivity.std()\n",
    "sensitivity_list.append(mean_cv_sensitivity)\n",
    "sensitivity_sd.append(sd_cv_sensitivity)\n",
    "\n",
    "# Specificity\n",
    "cv_scores_specificity = cross_val_score(nb_pipeline, X_train, y_train, cv=k_fold, scoring=specificity_scorer)\n",
    "mean_cv_specificity = cv_scores_specificity.mean()\n",
    "sd_cv_specificity = mean_cv_specificity.std()\n",
    "specificity_list.append(mean_cv_specificity)\n",
    "specificity_sd.append(sd_cv_specificity)\n",
    "\n",
    "# Calculate ROC curve\n",
    "# fpr_lr, tpr_lr, _ = roc_curve(y_test, lr_pipeline.predict_proba(X_test)[:, 1])\n",
    "# roc_curves.append((fpr_lr, tpr_lr))\n",
    "\n",
    "print(\"10-fold CV:\")\n",
    "print(\"Accuracy: \\t\", round(mean_cv_accuracy,3), \"(±\", round(sd_cv_accuracy, 2), \")\")\n",
    "print(\"ROC: \\t \\t\", round(mean_cv_auroc,3), \"(±\", round(sd_cv_auroc, 2), \")\")\n",
    "print(\"AUCPR: \\t \\t\", round(mean_cv_aucpr,3), \"(±\", round(sd_cv_aucpr, 2), \")\")\n",
    "print(\"Sensitivy: \\t\", round(mean_cv_sensitivity,3), \"(±\", round(sd_cv_sensitivity, 2), \")\")\n",
    "print(\"Specificity: \\t\", round(mean_cv_specificity,3), \"(±\", round(sd_cv_specificity, 2), \")\")\n",
    "print(\" \")\n",
    "plot_confusion_matrix(cm_nb, \"Naive Bayes Confusion Matrix\")"
   ]
  },
  {
   "cell_type": "markdown",
   "metadata": {
    "id": "1jm6vlWxNZNf"
   },
   "source": [
    "## Support Vector Machine"
   ]
  },
  {
   "cell_type": "code",
   "execution_count": 80,
   "metadata": {},
   "outputs": [
    {
     "name": "stdout",
     "output_type": "stream",
     "text": [
      "10-fold CV:\n",
      "Accuracy: \t 0.873 (± 0.05 )\n",
      "ROC: \t \t 0.871 (± 0.05 )\n",
      "AUCPR: \t \t 0.867 (± 0.04 )\n",
      "Sensitivy: \t 0.884 (± 0.07 )\n",
      "Specificity: \t 0.859 (± 0.0 )\n",
      " \n"
     ]
    },
    {
     "data": {
      "image/png": "[encoded data removed]",
      "text/plain": [
       "<Figure size 500x300 with 2 Axes>"
      ]
     },
     "metadata": {},
     "output_type": "display_data"
    }
   ],
   "source": [
    "# Model & pipeline\n",
    "svm_model = SVC(kernel='rbf', random_state=123, probability=True)\n",
    "\n",
    "svm_pipeline = Pipeline([\n",
    "    # ('winsorizer', Winsorizer(columns=extreme_outlier)),\n",
    "    ('scaler', StandardScaler()), \n",
    "    ('imputer', KNNImputer(n_neighbors=5)),\n",
    "    ('classifier', svm_model)\n",
    "])\n",
    "\n",
    "models.append('SVM')\n",
    "\n",
    "# 10 fold CV\n",
    "splits = 10\n",
    "k_fold = KFold(n_splits=splits, shuffle=True, random_state=123)\n",
    "\n",
    "# Calculate Scores\n",
    "# Confusion Matrix\n",
    "y_pred_cv = cross_val_predict(svm_pipeline, X, y, cv=k_fold)\n",
    "cm_svm = confusion_matrix(y, y_pred_cv)\n",
    "cm_svm = cm_svm / splits\n",
    "cm_svm = np.round(cm_svm,0)\n",
    "cm_svm = cm_svm.astype(int)\n",
    "confusion_matrices.append(cm_svm)\n",
    "\n",
    "# Accuracy\n",
    "cv_scores_accuracy = cross_val_score(svm_pipeline, X_train, y_train, cv=k_fold, scoring=\"accuracy\")\n",
    "mean_cv_accuracy = cv_scores_accuracy.mean()\n",
    "sd_cv_accuracy = cv_scores_accuracy.std()\n",
    "accuracy.append(mean_cv_accuracy)\n",
    "accuracy_sd.append(sd_cv_accuracy)\n",
    "\n",
    "# ROC\n",
    "cv_scores_auroc = cross_val_score(svm_pipeline, X_train, y_train, cv=k_fold, scoring=auroc_scorer)\n",
    "mean_cv_auroc = cv_scores_auroc.mean()\n",
    "sd_cv_auroc = cv_scores_auroc.std()\n",
    "auroc.append(mean_cv_auroc)\n",
    "auroc_sd.append(sd_cv_auroc)\n",
    "\n",
    "# AUCPR\n",
    "cv_scores_aucpr = cross_val_score(svm_pipeline, X_train, y_train, cv=k_fold, scoring=aucpr_scorer)\n",
    "mean_cv_aucpr = cv_scores_aucpr.mean()\n",
    "sd_cv_aucpr = cv_scores_aucpr.std()\n",
    "aucpr.append(mean_cv_aucpr)\n",
    "aucpr_sd.append(sd_cv_aucpr)\n",
    "\n",
    "# Sensitivy\n",
    "cv_scores_sensitivity = cross_val_score(svm_pipeline, X_train, y_train, cv=k_fold, scoring=\"recall\")\n",
    "mean_cv_sensitivity = cv_scores_sensitivity.mean()\n",
    "sd_cv_sensitivity = cv_scores_sensitivity.std()\n",
    "sensitivity_list.append(mean_cv_sensitivity)\n",
    "sensitivity_sd.append(sd_cv_sensitivity)\n",
    "\n",
    "# Specificity\n",
    "cv_scores_specificity = cross_val_score(svm_pipeline, X_train, y_train, cv=k_fold, scoring=specificity_scorer)\n",
    "mean_cv_specificity = cv_scores_specificity.mean()\n",
    "sd_cv_specificity = mean_cv_specificity.std()\n",
    "specificity_list.append(mean_cv_specificity)\n",
    "specificity_sd.append(sd_cv_specificity)\n",
    "\n",
    "# Calculate ROC curve\n",
    "# fpr_lr, tpr_lr, _ = roc_curve(y_test, lr_pipeline.predict_proba(X_test)[:, 1])\n",
    "# roc_curves.append((fpr_lr, tpr_lr))\n",
    "\n",
    "print(\"10-fold CV:\")\n",
    "print(\"Accuracy: \\t\", round(mean_cv_accuracy,3), \"(±\", round(sd_cv_accuracy, 2), \")\")\n",
    "print(\"ROC: \\t \\t\", round(mean_cv_auroc,3), \"(±\", round(sd_cv_auroc, 2), \")\")\n",
    "print(\"AUCPR: \\t \\t\", round(mean_cv_aucpr,3), \"(±\", round(sd_cv_aucpr, 2), \")\")\n",
    "print(\"Sensitivy: \\t\", round(mean_cv_sensitivity,3), \"(±\", round(sd_cv_sensitivity, 2), \")\")\n",
    "print(\"Specificity: \\t\", round(mean_cv_specificity,3), \"(±\", round(sd_cv_specificity, 2), \")\")\n",
    "print(\" \")\n",
    "plot_confusion_matrix(cm_svm, \"SVM Confusion Matrix\")"
   ]
  },
  {
   "cell_type": "markdown",
   "metadata": {
    "id": "uZO-yJ43NZNg"
   },
   "source": [
    "## Random Forest Classifier"
   ]
  },
  {
   "cell_type": "code",
   "execution_count": 81,
   "metadata": {},
   "outputs": [
    {
     "name": "stdout",
     "output_type": "stream",
     "text": [
      "10-fold CV:\n",
      "Accuracy: \t 0.933 (± 0.03 )\n",
      "ROC: \t \t 0.934 (± 0.03 )\n",
      "AUCPR: \t \t 0.93 (± 0.03 )\n",
      "Sensitivy: \t 0.934 (± 0.03 )\n",
      "Specificity: \t 0.933 (± 0.0 )\n",
      " \n"
     ]
    },
    {
     "data": {
      "image/png": "[encoded data removed]",
      "text/plain": [
       "<Figure size 500x300 with 2 Axes>"
      ]
     },
     "metadata": {},
     "output_type": "display_data"
    }
   ],
   "source": [
    "# Model & pipeline\n",
    "rf_model = RandomForestClassifier(n_estimators=100, random_state=123)\n",
    "\n",
    "rf_pipeline = Pipeline([\n",
    "    # ('winsorizer', Winsorizer(columns=extreme_outlier)),\n",
    "    ('scaler', StandardScaler()), \n",
    "    ('imputer', KNNImputer(n_neighbors=5)),\n",
    "    ('classifier', rf_model)\n",
    "])\n",
    "\n",
    "models.append('Random Forest')\n",
    "\n",
    "# 10 fold CV\n",
    "splits = 10\n",
    "k_fold = KFold(n_splits=splits, shuffle=True, random_state=123)\n",
    "\n",
    "# Calculate Scores\n",
    "# Confusion Matrix\n",
    "y_pred_cv = cross_val_predict(rf_pipeline, X, y, cv=k_fold)\n",
    "cm_rf = confusion_matrix(y, y_pred_cv)\n",
    "cm_rf = cm_rf / splits\n",
    "cm_rf = np.round(cm_rf,0)\n",
    "cm_rf = cm_rf.astype(int)\n",
    "confusion_matrices.append(cm_rf)\n",
    "\n",
    "# Accuracy\n",
    "cv_scores_accuracy = cross_val_score(rf_pipeline, X_train, y_train, cv=k_fold, scoring=\"accuracy\")\n",
    "mean_cv_accuracy = cv_scores_accuracy.mean()\n",
    "sd_cv_accuracy = cv_scores_accuracy.std()\n",
    "accuracy.append(mean_cv_accuracy)\n",
    "accuracy_sd.append(sd_cv_accuracy)\n",
    "\n",
    "# ROC\n",
    "cv_scores_auroc = cross_val_score(rf_pipeline, X_train, y_train, cv=k_fold, scoring=auroc_scorer)\n",
    "mean_cv_auroc = cv_scores_auroc.mean()\n",
    "sd_cv_auroc = cv_scores_auroc.std()\n",
    "auroc.append(mean_cv_auroc)\n",
    "auroc_sd.append(sd_cv_auroc)\n",
    "\n",
    "# AUCPR\n",
    "cv_scores_aucpr = cross_val_score(rf_pipeline, X_train, y_train, cv=k_fold, scoring=aucpr_scorer)\n",
    "mean_cv_aucpr = cv_scores_aucpr.mean()\n",
    "sd_cv_aucpr = cv_scores_aucpr.std()\n",
    "aucpr.append(mean_cv_aucpr)\n",
    "aucpr_sd.append(sd_cv_aucpr)\n",
    "\n",
    "# Sensitivy\n",
    "cv_scores_sensitivity = cross_val_score(rf_pipeline, X_train, y_train, cv=k_fold, scoring=\"recall\")\n",
    "mean_cv_sensitivity = cv_scores_sensitivity.mean()\n",
    "sd_cv_sensitivity = cv_scores_sensitivity.std()\n",
    "sensitivity_list.append(mean_cv_sensitivity)\n",
    "sensitivity_sd.append(sd_cv_sensitivity)\n",
    "\n",
    "# Specificity\n",
    "cv_scores_specificity = cross_val_score(rf_pipeline, X_train, y_train, cv=k_fold, scoring=specificity_scorer)\n",
    "mean_cv_specificity = cv_scores_specificity.mean()\n",
    "sd_cv_specificity = mean_cv_specificity.std()\n",
    "specificity_list.append(mean_cv_specificity)\n",
    "specificity_sd.append(sd_cv_specificity)\n",
    "\n",
    "# Calculate ROC curve\n",
    "# fpr_lr, tpr_lr, _ = roc_curve(y_test, lr_pipeline.predict_proba(X_test)[:, 1])\n",
    "# roc_curves.append((fpr_lr, tpr_lr))\n",
    "\n",
    "print(\"10-fold CV:\")\n",
    "print(\"Accuracy: \\t\", round(mean_cv_accuracy,3), \"(±\", round(sd_cv_accuracy, 2), \")\")\n",
    "print(\"ROC: \\t \\t\", round(mean_cv_auroc,3), \"(±\", round(sd_cv_auroc, 2), \")\")\n",
    "print(\"AUCPR: \\t \\t\", round(mean_cv_aucpr,3), \"(±\", round(sd_cv_aucpr, 2), \")\")\n",
    "print(\"Sensitivy: \\t\", round(mean_cv_sensitivity,3), \"(±\", round(sd_cv_sensitivity, 2), \")\")\n",
    "print(\"Specificity: \\t\", round(mean_cv_specificity,3), \"(±\", round(sd_cv_specificity, 2), \")\")\n",
    "print(\" \")\n",
    "plot_confusion_matrix(cm_rf, \"Random Forest Confusion Matrix\")"
   ]
  },
  {
   "cell_type": "markdown",
   "metadata": {
    "id": "MNoZb1fANZNh"
   },
   "source": [
    "## Gradient Boosting Classifier"
   ]
  },
  {
   "cell_type": "code",
   "execution_count": 82,
   "metadata": {},
   "outputs": [
    {
     "name": "stdout",
     "output_type": "stream",
     "text": [
      "10-fold CV:\n",
      "Accuracy: \t 0.944 (± 0.03 )\n",
      "ROC: \t \t 0.944 (± 0.03 )\n",
      "AUCPR: \t \t 0.94 (± 0.03 )\n",
      "Sensitivy: \t 0.948 (± 0.03 )\n",
      "Specificity: \t 0.94 (± 0.0 )\n",
      " \n"
     ]
    },
    {
     "data": {
      "image/png": "[encoded data removed]",
      "text/plain": [
       "<Figure size 500x300 with 2 Axes>"
      ]
     },
     "metadata": {},
     "output_type": "display_data"
    }
   ],
   "source": [
    "# Model & pipeline\n",
    "gbm_model = GradientBoostingClassifier(n_estimators=100, random_state=123)\n",
    "\n",
    "gbm_pipeline = Pipeline([\n",
    "    # ('winsorizer', Winsorizer(columns=extreme_outlier)),\n",
    "    ('scaler', StandardScaler()), \n",
    "    ('imputer', KNNImputer(n_neighbors=5)),\n",
    "    ('classifier', gbm_model)\n",
    "])\n",
    "\n",
    "models.append('GBM')\n",
    "\n",
    "# 10 fold CV\n",
    "splits = 10\n",
    "k_fold = KFold(n_splits=splits, shuffle=True, random_state=123)\n",
    "\n",
    "# Calculate Scores\n",
    "# Confusion Matrix\n",
    "y_pred_cv = cross_val_predict(gbm_pipeline, X, y, cv=k_fold)\n",
    "cm_gbm = confusion_matrix(y, y_pred_cv)\n",
    "cm_gbm = cm_gbm / splits\n",
    "cm_gbm = np.round(cm_gbm,0)\n",
    "cm_gbm = cm_gbm.astype(int)\n",
    "confusion_matrices.append(cm_gbm)\n",
    "\n",
    "# Accuracy\n",
    "cv_scores_accuracy = cross_val_score(gbm_pipeline, X_train, y_train, cv=k_fold, scoring=\"accuracy\")\n",
    "mean_cv_accuracy = cv_scores_accuracy.mean()\n",
    "sd_cv_accuracy = cv_scores_accuracy.std()\n",
    "accuracy.append(mean_cv_accuracy)\n",
    "accuracy_sd.append(sd_cv_accuracy)\n",
    "\n",
    "# ROC\n",
    "cv_scores_auroc = cross_val_score(gbm_pipeline, X_train, y_train, cv=k_fold, scoring=auroc_scorer)\n",
    "mean_cv_auroc = cv_scores_auroc.mean()\n",
    "sd_cv_auroc = cv_scores_auroc.std()\n",
    "auroc.append(mean_cv_auroc)\n",
    "auroc_sd.append(sd_cv_auroc)\n",
    "\n",
    "# AUCPR\n",
    "cv_scores_aucpr = cross_val_score(gbm_pipeline, X_train, y_train, cv=k_fold, scoring=aucpr_scorer)\n",
    "mean_cv_aucpr = cv_scores_aucpr.mean()\n",
    "sd_cv_aucpr = cv_scores_aucpr.std()\n",
    "aucpr.append(mean_cv_aucpr)\n",
    "aucpr_sd.append(sd_cv_aucpr)\n",
    "\n",
    "# Sensitivy\n",
    "cv_scores_sensitivity = cross_val_score(gbm_pipeline, X_train, y_train, cv=k_fold, scoring=\"recall\")\n",
    "mean_cv_sensitivity = cv_scores_sensitivity.mean()\n",
    "sd_cv_sensitivity = cv_scores_sensitivity.std()\n",
    "sensitivity_list.append(mean_cv_sensitivity)\n",
    "sensitivity_sd.append(sd_cv_sensitivity)\n",
    "\n",
    "# Specificity\n",
    "cv_scores_specificity = cross_val_score(gbm_pipeline, X_train, y_train, cv=k_fold, scoring=specificity_scorer)\n",
    "mean_cv_specificity = cv_scores_specificity.mean()\n",
    "sd_cv_specificity = mean_cv_specificity.std()\n",
    "specificity_list.append(mean_cv_specificity)\n",
    "specificity_sd.append(sd_cv_specificity)\n",
    "\n",
    "# Calculate ROC curve\n",
    "# fpr_lr, tpr_lr, _ = roc_curve(y_test, lr_pipeline.predict_proba(X_test)[:, 1])\n",
    "# roc_curves.append((fpr_lr, tpr_lr))\n",
    "\n",
    "print(\"10-fold CV:\")\n",
    "print(\"Accuracy: \\t\", round(mean_cv_accuracy,3), \"(±\", round(sd_cv_accuracy, 2), \")\")\n",
    "print(\"ROC: \\t \\t\", round(mean_cv_auroc,3), \"(±\", round(sd_cv_auroc, 2), \")\")\n",
    "print(\"AUCPR: \\t \\t\", round(mean_cv_aucpr,3), \"(±\", round(sd_cv_aucpr, 2), \")\")\n",
    "print(\"Sensitivy: \\t\", round(mean_cv_sensitivity,3), \"(±\", round(sd_cv_sensitivity, 2), \")\")\n",
    "print(\"Specificity: \\t\", round(mean_cv_specificity,3), \"(±\", round(sd_cv_specificity, 2), \")\")\n",
    "print(\" \")\n",
    "plot_confusion_matrix(cm_gbm, \"GBM Confusion Matrix\")"
   ]
  },
  {
   "cell_type": "markdown",
   "metadata": {
    "id": "dRccOpdDNZNh"
   },
   "source": [
    "## Neural Network"
   ]
  },
  {
   "cell_type": "code",
   "execution_count": 92,
   "metadata": {
    "colab": {
     "base_uri": "https://localhost:8080/"
    },
    "id": "HtuXyiMEWgws",
    "outputId": "bb5f889a-d231-4bb6-8937-1274b263f125",
    "scrolled": true
   },
   "outputs": [
    {
     "name": "stdout",
     "output_type": "stream",
     "text": [
      "Epoch 1/50\n"
     ]
    },
    {
     "name": "stderr",
     "output_type": "stream",
     "text": [
      "C:\\Users\\mariu\\anaconda3\\Lib\\site-packages\\keras\\src\\layers\\core\\dense.py:88: UserWarning: Do not pass an `input_shape`/`input_dim` argument to a layer. When using Sequential models, prefer using an `Input(shape)` object as the first layer in the model instead.\n",
      "  super().__init__(activity_regularizer=activity_regularizer, **kwargs)\n"
     ]
    },
    {
     "name": "stdout",
     "output_type": "stream",
     "text": [
      "\u001b[1m20/20\u001b[0m \u001b[32m━━━━━━━━━━━━━━━━━━━━\u001b[0m\u001b[37m\u001b[0m \u001b[1m1s\u001b[0m 11ms/step - accuracy: 0.5950 - loss: 0.6534 - val_accuracy: 0.7746 - val_loss: 0.4695\n",
      "Epoch 2/50\n",
      "\u001b[1m20/20\u001b[0m \u001b[32m━━━━━━━━━━━━━━━━━━━━\u001b[0m\u001b[37m\u001b[0m \u001b[1m0s\u001b[0m 3ms/step - accuracy: 0.7915 - loss: 0.4376 - val_accuracy: 0.7746 - val_loss: 0.3906\n",
      "Epoch 3/50\n",
      "\u001b[1m20/20\u001b[0m \u001b[32m━━━━━━━━━━━━━━━━━━━━\u001b[0m\u001b[37m\u001b[0m \u001b[1m0s\u001b[0m 4ms/step - accuracy: 0.8618 - loss: 0.3405 - val_accuracy: 0.8451 - val_loss: 0.3330\n",
      "Epoch 4/50\n",
      "\u001b[1m20/20\u001b[0m \u001b[32m━━━━━━━━━━━━━━━━━━━━\u001b[0m\u001b[37m\u001b[0m \u001b[1m0s\u001b[0m 4ms/step - accuracy: 0.9113 - loss: 0.2642 - val_accuracy: 0.9014 - val_loss: 0.2951\n",
      "Epoch 5/50\n",
      "\u001b[1m20/20\u001b[0m \u001b[32m━━━━━━━━━━━━━━━━━━━━\u001b[0m\u001b[37m\u001b[0m \u001b[1m0s\u001b[0m 3ms/step - accuracy: 0.9240 - loss: 0.2250 - val_accuracy: 0.9014 - val_loss: 0.2773\n",
      "Epoch 6/50\n",
      "\u001b[1m20/20\u001b[0m \u001b[32m━━━━━━━━━━━━━━━━━━━━\u001b[0m\u001b[37m\u001b[0m \u001b[1m0s\u001b[0m 4ms/step - accuracy: 0.9249 - loss: 0.2061 - val_accuracy: 0.9014 - val_loss: 0.2574\n",
      "Epoch 7/50\n",
      "\u001b[1m20/20\u001b[0m \u001b[32m━━━━━━━━━━━━━━━━━━━━\u001b[0m\u001b[37m\u001b[0m \u001b[1m0s\u001b[0m 3ms/step - accuracy: 0.9596 - loss: 0.1362 - val_accuracy: 0.9155 - val_loss: 0.2531\n",
      "Epoch 8/50\n",
      "\u001b[1m20/20\u001b[0m \u001b[32m━━━━━━━━━━━━━━━━━━━━\u001b[0m\u001b[37m\u001b[0m \u001b[1m0s\u001b[0m 3ms/step - accuracy: 0.9587 - loss: 0.1372 - val_accuracy: 0.9296 - val_loss: 0.2437\n",
      "Epoch 9/50\n",
      "\u001b[1m20/20\u001b[0m \u001b[32m━━━━━━━━━━━━━━━━━━━━\u001b[0m\u001b[37m\u001b[0m \u001b[1m0s\u001b[0m 4ms/step - accuracy: 0.9742 - loss: 0.1224 - val_accuracy: 0.9296 - val_loss: 0.2361\n",
      "Epoch 10/50\n",
      "\u001b[1m20/20\u001b[0m \u001b[32m━━━━━━━━━━━━━━━━━━━━\u001b[0m\u001b[37m\u001b[0m \u001b[1m0s\u001b[0m 3ms/step - accuracy: 0.9787 - loss: 0.1054 - val_accuracy: 0.9155 - val_loss: 0.2413\n",
      "Epoch 11/50\n",
      "\u001b[1m20/20\u001b[0m \u001b[32m━━━━━━━━━━━━━━━━━━━━\u001b[0m\u001b[37m\u001b[0m \u001b[1m0s\u001b[0m 3ms/step - accuracy: 0.9888 - loss: 0.0896 - val_accuracy: 0.9155 - val_loss: 0.2356\n",
      "Epoch 12/50\n",
      "\u001b[1m20/20\u001b[0m \u001b[32m━━━━━━━━━━━━━━━━━━━━\u001b[0m\u001b[37m\u001b[0m \u001b[1m0s\u001b[0m 3ms/step - accuracy: 0.9887 - loss: 0.0778 - val_accuracy: 0.9437 - val_loss: 0.2290\n",
      "Epoch 13/50\n",
      "\u001b[1m20/20\u001b[0m \u001b[32m━━━━━━━━━━━━━━━━━━━━\u001b[0m\u001b[37m\u001b[0m \u001b[1m0s\u001b[0m 3ms/step - accuracy: 0.9951 - loss: 0.0596 - val_accuracy: 0.9437 - val_loss: 0.2301\n",
      "Epoch 14/50\n",
      "\u001b[1m20/20\u001b[0m \u001b[32m━━━━━━━━━━━━━━━━━━━━\u001b[0m\u001b[37m\u001b[0m \u001b[1m0s\u001b[0m 3ms/step - accuracy: 0.9950 - loss: 0.0447 - val_accuracy: 0.9155 - val_loss: 0.2422\n",
      "Epoch 15/50\n",
      "\u001b[1m20/20\u001b[0m \u001b[32m━━━━━━━━━━━━━━━━━━━━\u001b[0m\u001b[37m\u001b[0m \u001b[1m0s\u001b[0m 3ms/step - accuracy: 0.9970 - loss: 0.0422 - val_accuracy: 0.9155 - val_loss: 0.2310\n",
      "Epoch 16/50\n",
      "\u001b[1m20/20\u001b[0m \u001b[32m━━━━━━━━━━━━━━━━━━━━\u001b[0m\u001b[37m\u001b[0m \u001b[1m0s\u001b[0m 3ms/step - accuracy: 0.9973 - loss: 0.0336 - val_accuracy: 0.9155 - val_loss: 0.2388\n",
      "Epoch 17/50\n",
      "\u001b[1m20/20\u001b[0m \u001b[32m━━━━━━━━━━━━━━━━━━━━\u001b[0m\u001b[37m\u001b[0m \u001b[1m0s\u001b[0m 3ms/step - accuracy: 0.9980 - loss: 0.0378 - val_accuracy: 0.9437 - val_loss: 0.2363\n",
      "Epoch 18/50\n",
      "\u001b[1m20/20\u001b[0m \u001b[32m━━━━━━━━━━━━━━━━━━━━\u001b[0m\u001b[37m\u001b[0m \u001b[1m0s\u001b[0m 4ms/step - accuracy: 0.9973 - loss: 0.0392 - val_accuracy: 0.9014 - val_loss: 0.2491\n",
      "Epoch 19/50\n",
      "\u001b[1m20/20\u001b[0m \u001b[32m━━━━━━━━━━━━━━━━━━━━\u001b[0m\u001b[37m\u001b[0m \u001b[1m0s\u001b[0m 3ms/step - accuracy: 0.9988 - loss: 0.0263 - val_accuracy: 0.9155 - val_loss: 0.2409\n",
      "Epoch 20/50\n",
      "\u001b[1m20/20\u001b[0m \u001b[32m━━━━━━━━━━━━━━━━━━━━\u001b[0m\u001b[37m\u001b[0m \u001b[1m0s\u001b[0m 3ms/step - accuracy: 0.9992 - loss: 0.0206 - val_accuracy: 0.9155 - val_loss: 0.2467\n",
      "Epoch 21/50\n",
      "\u001b[1m20/20\u001b[0m \u001b[32m━━━━━━━━━━━━━━━━━━━━\u001b[0m\u001b[37m\u001b[0m \u001b[1m0s\u001b[0m 3ms/step - accuracy: 0.9984 - loss: 0.0233 - val_accuracy: 0.9155 - val_loss: 0.2528\n",
      "Epoch 22/50\n",
      "\u001b[1m20/20\u001b[0m \u001b[32m━━━━━━━━━━━━━━━━━━━━\u001b[0m\u001b[37m\u001b[0m \u001b[1m0s\u001b[0m 4ms/step - accuracy: 0.9997 - loss: 0.0129 - val_accuracy: 0.9155 - val_loss: 0.2481\n",
      "Epoch 23/50\n",
      "\u001b[1m20/20\u001b[0m \u001b[32m━━━━━━━━━━━━━━━━━━━━\u001b[0m\u001b[37m\u001b[0m \u001b[1m0s\u001b[0m 3ms/step - accuracy: 0.9968 - loss: 0.0211 - val_accuracy: 0.9155 - val_loss: 0.2547\n",
      "Epoch 24/50\n",
      "\u001b[1m20/20\u001b[0m \u001b[32m━━━━━━━━━━━━━━━━━━━━\u001b[0m\u001b[37m\u001b[0m \u001b[1m0s\u001b[0m 3ms/step - accuracy: 0.9988 - loss: 0.0139 - val_accuracy: 0.9155 - val_loss: 0.2648\n",
      "Epoch 25/50\n",
      "\u001b[1m20/20\u001b[0m \u001b[32m━━━━━━━━━━━━━━━━━━━━\u001b[0m\u001b[37m\u001b[0m \u001b[1m0s\u001b[0m 3ms/step - accuracy: 0.9994 - loss: 0.0116 - val_accuracy: 0.9155 - val_loss: 0.2611\n",
      "Epoch 26/50\n",
      "\u001b[1m20/20\u001b[0m \u001b[32m━━━━━━━━━━━━━━━━━━━━\u001b[0m\u001b[37m\u001b[0m \u001b[1m0s\u001b[0m 3ms/step - accuracy: 0.9973 - loss: 0.0153 - val_accuracy: 0.9155 - val_loss: 0.2630\n",
      "Epoch 27/50\n",
      "\u001b[1m20/20\u001b[0m \u001b[32m━━━━━━━━━━━━━━━━━━━━\u001b[0m\u001b[37m\u001b[0m \u001b[1m0s\u001b[0m 3ms/step - accuracy: 0.9989 - loss: 0.0113 - val_accuracy: 0.9155 - val_loss: 0.2758\n",
      "Epoch 28/50\n",
      "\u001b[1m20/20\u001b[0m \u001b[32m━━━━━━━━━━━━━━━━━━━━\u001b[0m\u001b[37m\u001b[0m \u001b[1m0s\u001b[0m 3ms/step - accuracy: 0.9992 - loss: 0.0111 - val_accuracy: 0.9296 - val_loss: 0.2755\n",
      "Epoch 29/50\n",
      "\u001b[1m20/20\u001b[0m \u001b[32m━━━━━━━━━━━━━━━━━━━━\u001b[0m\u001b[37m\u001b[0m \u001b[1m0s\u001b[0m 3ms/step - accuracy: 0.9968 - loss: 0.0133 - val_accuracy: 0.9296 - val_loss: 0.2760\n",
      "Epoch 30/50\n",
      "\u001b[1m20/20\u001b[0m \u001b[32m━━━━━━━━━━━━━━━━━━━━\u001b[0m\u001b[37m\u001b[0m \u001b[1m0s\u001b[0m 3ms/step - accuracy: 0.9989 - loss: 0.0080 - val_accuracy: 0.9155 - val_loss: 0.2919\n",
      "Epoch 31/50\n",
      "\u001b[1m20/20\u001b[0m \u001b[32m━━━━━━━━━━━━━━━━━━━━\u001b[0m\u001b[37m\u001b[0m \u001b[1m0s\u001b[0m 3ms/step - accuracy: 0.9961 - loss: 0.0105 - val_accuracy: 0.9296 - val_loss: 0.2798\n",
      "Epoch 32/50\n",
      "\u001b[1m20/20\u001b[0m \u001b[32m━━━━━━━━━━━━━━━━━━━━\u001b[0m\u001b[37m\u001b[0m \u001b[1m0s\u001b[0m 3ms/step - accuracy: 0.9961 - loss: 0.0114 - val_accuracy: 0.9296 - val_loss: 0.2857\n",
      "Epoch 33/50\n",
      "\u001b[1m20/20\u001b[0m \u001b[32m━━━━━━━━━━━━━━━━━━━━\u001b[0m\u001b[37m\u001b[0m \u001b[1m0s\u001b[0m 3ms/step - accuracy: 0.9996 - loss: 0.0046 - val_accuracy: 0.9014 - val_loss: 0.2991\n",
      "Epoch 34/50\n",
      "\u001b[1m20/20\u001b[0m \u001b[32m━━━━━━━━━━━━━━━━━━━━\u001b[0m\u001b[37m\u001b[0m \u001b[1m0s\u001b[0m 3ms/step - accuracy: 0.9998 - loss: 0.0048 - val_accuracy: 0.9296 - val_loss: 0.2812\n",
      "Epoch 35/50\n",
      "\u001b[1m20/20\u001b[0m \u001b[32m━━━━━━━━━━━━━━━━━━━━\u001b[0m\u001b[37m\u001b[0m \u001b[1m0s\u001b[0m 3ms/step - accuracy: 0.9995 - loss: 0.0036 - val_accuracy: 0.9296 - val_loss: 0.2973\n",
      "Epoch 36/50\n",
      "\u001b[1m20/20\u001b[0m \u001b[32m━━━━━━━━━━━━━━━━━━━━\u001b[0m\u001b[37m\u001b[0m \u001b[1m0s\u001b[0m 3ms/step - accuracy: 1.0000 - loss: 0.0067 - val_accuracy: 0.9296 - val_loss: 0.2958\n",
      "Epoch 37/50\n",
      "\u001b[1m20/20\u001b[0m \u001b[32m━━━━━━━━━━━━━━━━━━━━\u001b[0m\u001b[37m\u001b[0m \u001b[1m0s\u001b[0m 2ms/step - accuracy: 0.9997 - loss: 0.0037 - val_accuracy: 0.9155 - val_loss: 0.3067\n",
      "Epoch 38/50\n",
      "\u001b[1m20/20\u001b[0m \u001b[32m━━━━━━━━━━━━━━━━━━━━\u001b[0m\u001b[37m\u001b[0m \u001b[1m0s\u001b[0m 4ms/step - accuracy: 1.0000 - loss: 0.0038 - val_accuracy: 0.9296 - val_loss: 0.2981\n",
      "Epoch 39/50\n",
      "\u001b[1m20/20\u001b[0m \u001b[32m━━━━━━━━━━━━━━━━━━━━\u001b[0m\u001b[37m\u001b[0m \u001b[1m0s\u001b[0m 3ms/step - accuracy: 1.0000 - loss: 0.0045 - val_accuracy: 0.9296 - val_loss: 0.3025\n",
      "Epoch 40/50\n",
      "\u001b[1m20/20\u001b[0m \u001b[32m━━━━━━━━━━━━━━━━━━━━\u001b[0m\u001b[37m\u001b[0m \u001b[1m0s\u001b[0m 3ms/step - accuracy: 1.0000 - loss: 0.0029 - val_accuracy: 0.9296 - val_loss: 0.3107\n",
      "Epoch 41/50\n",
      "\u001b[1m20/20\u001b[0m \u001b[32m━━━━━━━━━━━━━━━━━━━━\u001b[0m\u001b[37m\u001b[0m \u001b[1m0s\u001b[0m 3ms/step - accuracy: 1.0000 - loss: 0.0034 - val_accuracy: 0.9296 - val_loss: 0.3084\n",
      "Epoch 42/50\n",
      "\u001b[1m20/20\u001b[0m \u001b[32m━━━━━━━━━━━━━━━━━━━━\u001b[0m\u001b[37m\u001b[0m \u001b[1m0s\u001b[0m 3ms/step - accuracy: 1.0000 - loss: 0.0021 - val_accuracy: 0.9296 - val_loss: 0.3114\n",
      "Epoch 43/50\n",
      "\u001b[1m20/20\u001b[0m \u001b[32m━━━━━━━━━━━━━━━━━━━━\u001b[0m\u001b[37m\u001b[0m \u001b[1m0s\u001b[0m 3ms/step - accuracy: 1.0000 - loss: 0.0034 - val_accuracy: 0.9296 - val_loss: 0.3185\n",
      "Epoch 44/50\n",
      "\u001b[1m20/20\u001b[0m \u001b[32m━━━━━━━━━━━━━━━━━━━━\u001b[0m\u001b[37m\u001b[0m \u001b[1m0s\u001b[0m 3ms/step - accuracy: 1.0000 - loss: 0.0027 - val_accuracy: 0.9296 - val_loss: 0.3289\n",
      "Epoch 45/50\n",
      "\u001b[1m20/20\u001b[0m \u001b[32m━━━━━━━━━━━━━━━━━━━━\u001b[0m\u001b[37m\u001b[0m \u001b[1m0s\u001b[0m 3ms/step - accuracy: 1.0000 - loss: 0.0021 - val_accuracy: 0.9296 - val_loss: 0.3175\n",
      "Epoch 46/50\n",
      "\u001b[1m20/20\u001b[0m \u001b[32m━━━━━━━━━━━━━━━━━━━━\u001b[0m\u001b[37m\u001b[0m \u001b[1m0s\u001b[0m 3ms/step - accuracy: 1.0000 - loss: 0.0022 - val_accuracy: 0.9296 - val_loss: 0.3164\n",
      "Epoch 47/50\n",
      "\u001b[1m20/20\u001b[0m \u001b[32m━━━━━━━━━━━━━━━━━━━━\u001b[0m\u001b[37m\u001b[0m \u001b[1m0s\u001b[0m 3ms/step - accuracy: 1.0000 - loss: 0.0021 - val_accuracy: 0.9296 - val_loss: 0.3272\n",
      "Epoch 48/50\n",
      "\u001b[1m20/20\u001b[0m \u001b[32m━━━━━━━━━━━━━━━━━━━━\u001b[0m\u001b[37m\u001b[0m \u001b[1m0s\u001b[0m 3ms/step - accuracy: 1.0000 - loss: 0.0015 - val_accuracy: 0.9296 - val_loss: 0.3244\n",
      "Epoch 49/50\n",
      "\u001b[1m20/20\u001b[0m \u001b[32m━━━━━━━━━━━━━━━━━━━━\u001b[0m\u001b[37m\u001b[0m \u001b[1m0s\u001b[0m 3ms/step - accuracy: 1.0000 - loss: 0.0015 - val_accuracy: 0.9296 - val_loss: 0.3320\n",
      "Epoch 50/50\n",
      "\u001b[1m20/20\u001b[0m \u001b[32m━━━━━━━━━━━━━━━━━━━━\u001b[0m\u001b[37m\u001b[0m \u001b[1m0s\u001b[0m 3ms/step - accuracy: 1.0000 - loss: 0.0016 - val_accuracy: 0.9296 - val_loss: 0.3277\n",
      "\u001b[1m3/3\u001b[0m \u001b[32m━━━━━━━━━━━━━━━━━━━━\u001b[0m\u001b[37m\u001b[0m \u001b[1m0s\u001b[0m 5ms/step - accuracy: 0.9303 - loss: 0.2137 \n",
      "Test Accuracy: 92.31%\n"
     ]
    },
    {
     "name": "stdout",
     "output_type": "stream",
     "text": [
      "\u001b[1m1/3\u001b[0m \u001b[32m━━━━━━\u001b[0m\u001b[37m━━━━━━━━━━━━━━\u001b[0m \u001b[1m0s\u001b[0m 62ms/stepWARNING:tensorflow:5 out of the last 13 calls to <function TensorFlowTrainer.make_predict_function.<locals>.one_step_on_data_distributed at 0x000001FFE9140A40> triggered tf.function retracing. Tracing is expensive and the excessive number of tracings could be due to (1) creating @tf.function repeatedly in a loop, (2) passing tensors with different shapes, (3) passing Python objects instead of tensors. For (1), please define your @tf.function outside of the loop. For (2), @tf.function has reduce_retracing=True option that can avoid unnecessary retracing. For (3), please refer to https://www.tensorflow.org/guide/function#controlling_retracing and https://www.tensorflow.org/api_docs/python/tf/function for  more details.\n",
      "\u001b[1m3/3\u001b[0m \u001b[32m━━━━━━━━━━━━━━━━━━━━\u001b[0m\u001b[37m\u001b[0m \u001b[1m0s\u001b[0m 19ms/step\n",
      "\u001b[1m3/3\u001b[0m \u001b[32m━━━━━━━━━━━━━━━━━━━━\u001b[0m\u001b[37m\u001b[0m \u001b[1m0s\u001b[0m 4ms/step \n"
     ]
    },
    {
     "ename": "NameError",
     "evalue": "name 'precision' is not defined",
     "output_type": "error",
     "traceback": [
      "\u001b[1;31m---------------------------------------------------------------------------\u001b[0m",
      "\u001b[1;31mNameError\u001b[0m                                 Traceback (most recent call last)",
      "Cell \u001b[1;32mIn[92], line 52\u001b[0m\n\u001b[0;32m     49\u001b[0m nn_f1 \u001b[38;5;241m=\u001b[39m f1_score(y_test, y_pred_nn)\n\u001b[0;32m     51\u001b[0m \u001b[38;5;66;03m# Append calculated metrics to their respective lists\u001b[39;00m\n\u001b[1;32m---> 52\u001b[0m precision\u001b[38;5;241m.\u001b[39mappend(nn_precision)\n\u001b[0;32m     53\u001b[0m recall\u001b[38;5;241m.\u001b[39mappend(nn_recall)\n\u001b[0;32m     54\u001b[0m f1\u001b[38;5;241m.\u001b[39mappend(nn_f1)\n",
      "\u001b[1;31mNameError\u001b[0m: name 'precision' is not defined"
     ]
    }
   ],
   "source": [
    "# Pipeline                      \n",
    "nn_pipeline = Pipeline([\n",
    "    ('scaler', StandardScaler()), \n",
    "    ('imputer', KNNImputer(n_neighbors=5))\n",
    "])\n",
    "                        \n",
    "models.append('Neural Network')\n",
    "\n",
    "# Transform the data\n",
    "X_train_prepared = nn_pipeline.fit_transform(X_train)\n",
    "X_test_prepared = nn_pipeline.transform(X_test)\n",
    "\n",
    "# Build a simple neural network model\n",
    "model = Sequential([\n",
    "    Dense(128, activation='relu', input_shape=(X_train_prepared.shape[1],)),\n",
    "    Dense(64, activation='relu'),\n",
    "    Dense(1, activation='sigmoid')  # Sigmoid because of binaray classification\n",
    "])\n",
    "\n",
    "model.compile(optimizer='adam', loss='binary_crossentropy', metrics=['accuracy'])\n",
    "\n",
    "# Define a callback to record training metrics\n",
    "class MetricsCallback(keras.callbacks.Callback):\n",
    "    def on_epoch_end(self, epoch, logs=None):\n",
    "        accuracy.append(logs['accuracy'])\n",
    "\n",
    "# Fit the neural network\n",
    "history = model.fit(X_train_prepared, y_train, epochs=50, validation_split=0.1)\n",
    "\n",
    "# Evaluate the model on the test set\n",
    "loss, test_accuracy = model.evaluate(X_test_prepared, y_test)\n",
    "print(f\"Test Accuracy: {test_accuracy * 100:.2f}%\")\n",
    "\n",
    "# Update your metrics list with neural network performance\n",
    "accuracy.append(test_accuracy)  # Append test accuracy for NN\n",
    "\n",
    "# Retrieve the confusion matrix and ROC curve from the neural network's predictions\n",
    "y_pred_nn = (model.predict(X_test_prepared) > 0.5).astype(\"int32\")\n",
    "cm_nn = confusion_matrix(y_test, y_pred_nn)\n",
    "confusion_matrices.append(cm_nn)\n",
    "\n",
    "# Calculate ROC curve data and AUC for neural network\n",
    "fpr_nn, tpr_nn, _ = roc_curve(y_test, model.predict(X_test_prepared).ravel())\n",
    "roc_auc_nn = auc(fpr_nn, tpr_nn)\n",
    "roc_curves.append((fpr_nn, tpr_nn))  # Store ROC curve data correctly\n",
    "\n",
    "# Calculate precision, recall, and F1 score from confusion matrix\n",
    "nn_recall = recall_score(y_test, y_pred_nn)\n",
    "nn_f1 = f1_score(y_test, y_pred_nn)\n",
    "\n",
    "# Append calculated metrics to their respective lists\n",
    "precision.append(nn_precision)\n",
    "recall.append(nn_recall)\n",
    "f1.append(nn_f1)\n",
    "\n",
    "# Calculate additional rates\n",
    "tn, fp, fn, tp = confusion_matrix(y_test, y_pred_nn).ravel()\n",
    "nn_true_positive_rate = tp / (tp + fn)\n",
    "nn_false_positive_rate = fp / (fp + tn)\n",
    "nn_true_negative_rate = tn / (tn + fp)\n",
    "nn_false_negative_rate = fn / (fn + tp)\n",
    "\n",
    "tpr.append(nn_true_positive_rate)\n",
    "fpr.append(nn_false_positive_rate)\n",
    "tnr.append(nn_true_negative_rate)\n",
    "fnr.append(nn_false_negative_rate)\n",
    "\n",
    "# Print metrics for confirmation\n",
    "print(\" \")\n",
    "print(\"Neural Network Metrics:\")\n",
    "print(\"Accuracy: \\t\", round(test_accuracy, 3))\n",
    "print(\"Recall:\", round(nn_recall, 4))\n",
    "print(\"F1 Score:\", round(nn_f1, 4))\n",
    "print(\" \")\n",
    "print(\"True Positive Rate:\", round(nn_true_positive_rate, 4))\n",
    "print(\"False Positive Rate:\", round(nn_false_positive_rate, 4))\n",
    "print(\"True Negative Rate:\", round(nn_true_negative_rate, 4))\n",
    "print(\"False Negative Rate:\", round(nn_false_negative_rate, 4))"
   ]
  },
  {
   "cell_type": "code",
   "execution_count": null,
   "metadata": {},
   "outputs": [],
   "source": []
  },
  {
   "cell_type": "markdown",
   "metadata": {
    "id": "T3Vzh-0cNZNi"
   },
   "source": [
    "## Summary & Model Comparison"
   ]
  },
  {
   "cell_type": "code",
   "execution_count": 40,
   "metadata": {
    "colab": {
     "base_uri": "https://localhost:8080/",
     "height": 607
    },
    "id": "duyt3UpcNZNi",
    "outputId": "2533b840-1df3-4b3c-816f-b5e41dd71047"
   },
   "outputs": [
    {
     "ename": "NameError",
     "evalue": "name 'roc' is not defined",
     "output_type": "error",
     "traceback": [
      "\u001b[1;31m---------------------------------------------------------------------------\u001b[0m",
      "\u001b[1;31mNameError\u001b[0m                                 Traceback (most recent call last)",
      "Cell \u001b[1;32mIn[40], line 4\u001b[0m\n\u001b[0;32m      1\u001b[0m colors \u001b[38;5;241m=\u001b[39m sns\u001b[38;5;241m.\u001b[39mcolor_palette(\u001b[38;5;124m\"\u001b[39m\u001b[38;5;124mcoolwarm\u001b[39m\u001b[38;5;124m\"\u001b[39m, \u001b[38;5;28mlen\u001b[39m(models))\n\u001b[0;32m      3\u001b[0m metrics \u001b[38;5;241m=\u001b[39m [\u001b[38;5;124m\"\u001b[39m\u001b[38;5;124mAccuracy\u001b[39m\u001b[38;5;124m\"\u001b[39m, \u001b[38;5;124m\"\u001b[39m\u001b[38;5;124mROC\u001b[39m\u001b[38;5;124m\"\u001b[39m, \u001b[38;5;124m\"\u001b[39m\u001b[38;5;124mAUCPR\u001b[39m\u001b[38;5;124m\"\u001b[39m]\n\u001b[1;32m----> 4\u001b[0m values \u001b[38;5;241m=\u001b[39m [accuracy, roc, aucpr]\n\u001b[0;32m      6\u001b[0m data \u001b[38;5;241m=\u001b[39m {\u001b[38;5;124m\"\u001b[39m\u001b[38;5;124mModel\u001b[39m\u001b[38;5;124m\"\u001b[39m: models}\n\u001b[0;32m      7\u001b[0m \u001b[38;5;28;01mfor\u001b[39;00m metric, metric_values \u001b[38;5;129;01min\u001b[39;00m \u001b[38;5;28mzip\u001b[39m(metrics, values):\n",
      "\u001b[1;31mNameError\u001b[0m: name 'roc' is not defined"
     ]
    }
   ],
   "source": [
    "colors = sns.color_palette(\"coolwarm\", len(models))\n",
    "\n",
    "metrics = [\"Accuracy\", \"ROC\", \"AUCPR\"]\n",
    "values = [accuracy, roc, aucpr]\n",
    "\n",
    "data = {\"Model\": models}\n",
    "for metric, metric_values in zip(metrics, values):\n",
    "    data[metric] = metric_values\n",
    "metrics_df = pd.DataFrame(data)\n",
    "\n",
    "metrics_melted = metrics_df.melt(id_vars=\"Model\", var_name=\"Metric\", value_name=\"Value\")\n",
    "\n",
    "plt.figure(figsize=(10, 6))\n",
    "sns.barplot(data=metrics_melted, x=\"Metric\", y=\"Value\", hue=\"Model\", palette=colors)\n",
    "plt.title(\"Model Performance Comparison\")\n",
    "plt.xlabel(\"\")\n",
    "plt.ylabel(\"Score\")\n",
    "plt.xticks(rotation=45)\n",
    "plt.legend(bbox_to_anchor=(1.05, 1), loc='upper left')\n",
    "plt.tight_layout()\n",
    "plt.show()"
   ]
  },
  {
   "cell_type": "code",
   "execution_count": 13,
   "metadata": {
    "colab": {
     "base_uri": "https://localhost:8080/",
     "height": 607
    },
    "id": "nW8xedu5NZNi",
    "outputId": "7df40055-3278-4ff1-c07c-ec25d0ebee83"
   },
   "outputs": [
    {
     "ename": "NameError",
     "evalue": "name 'tpr' is not defined",
     "output_type": "error",
     "traceback": [
      "\u001b[1;31m---------------------------------------------------------------------------\u001b[0m",
      "\u001b[1;31mNameError\u001b[0m                                 Traceback (most recent call last)",
      "Cell \u001b[1;32mIn[13], line 4\u001b[0m\n\u001b[0;32m      1\u001b[0m colors \u001b[38;5;241m=\u001b[39m sns\u001b[38;5;241m.\u001b[39mcolor_palette(\u001b[38;5;124m\"\u001b[39m\u001b[38;5;124mcoolwarm\u001b[39m\u001b[38;5;124m\"\u001b[39m, \u001b[38;5;28mlen\u001b[39m(models))\n\u001b[0;32m      3\u001b[0m metrics \u001b[38;5;241m=\u001b[39m [\u001b[38;5;124m\"\u001b[39m\u001b[38;5;124mTP-Rate\u001b[39m\u001b[38;5;124m\"\u001b[39m, \u001b[38;5;124m\"\u001b[39m\u001b[38;5;124mFP-Rate\u001b[39m\u001b[38;5;124m\"\u001b[39m, \u001b[38;5;124m\"\u001b[39m\u001b[38;5;124mTN-Rate\u001b[39m\u001b[38;5;124m\"\u001b[39m, \u001b[38;5;124m\"\u001b[39m\u001b[38;5;124mFN-Rate\u001b[39m\u001b[38;5;124m\"\u001b[39m]\n\u001b[1;32m----> 4\u001b[0m values \u001b[38;5;241m=\u001b[39m [tpr, fpr, tnr, fnr]\n\u001b[0;32m      6\u001b[0m data \u001b[38;5;241m=\u001b[39m {\u001b[38;5;124m\"\u001b[39m\u001b[38;5;124mModel\u001b[39m\u001b[38;5;124m\"\u001b[39m: models}\n\u001b[0;32m      7\u001b[0m \u001b[38;5;28;01mfor\u001b[39;00m metric, metric_values \u001b[38;5;129;01min\u001b[39;00m \u001b[38;5;28mzip\u001b[39m(metrics, values):\n",
      "\u001b[1;31mNameError\u001b[0m: name 'tpr' is not defined"
     ]
    }
   ],
   "source": [
    "colors = sns.color_palette(\"coolwarm\", len(models))\n",
    "\n",
    "metrics = [\"TP-Rate\", \"FP-Rate\", \"TN-Rate\", \"FN-Rate\"]\n",
    "values = [tpr, fpr, tnr, fnr]\n",
    "\n",
    "data = {\"Model\": models}\n",
    "for metric, metric_values in zip(metrics, values):\n",
    "    data[metric] = metric_values\n",
    "metrics_df = pd.DataFrame(data)\n",
    "\n",
    "metrics_melted = metrics_df.melt(id_vars=\"Model\", var_name=\"Metric\", value_name=\"Value\")\n",
    "\n",
    "plt.figure(figsize=(10, 6))\n",
    "sns.barplot(data=metrics_melted, x=\"Metric\", y=\"Value\", hue=\"Model\", palette=colors)\n",
    "plt.title(\"Model Rates Comparison\")\n",
    "plt.xlabel(\"\")\n",
    "plt.ylabel(\"Score\")\n",
    "plt.xticks(rotation=45)\n",
    "plt.legend(bbox_to_anchor=(1.05, 1), loc='upper left')\n",
    "plt.tight_layout()\n",
    "plt.show()"
   ]
  },
  {
   "cell_type": "markdown",
   "metadata": {
    "id": "_85gEcQeNZNi"
   },
   "source": [
    "## AUC, ROC"
   ]
  },
  {
   "cell_type": "code",
   "execution_count": 47,
   "metadata": {
    "colab": {
     "base_uri": "https://localhost:8080/",
     "height": 718
    },
    "id": "8hu3TIgXThu-",
    "outputId": "8ba0acf8-f644-4289-e001-e3f1da29cd1d",
    "scrolled": false
   },
   "outputs": [
    {
     "data": {
      "image/png": "[encoded data removed]",
      "text/plain": [
       "<Figure size 1000x800 with 1 Axes>"
      ]
     },
     "metadata": {},
     "output_type": "display_data"
    }
   ],
   "source": [
    "# Set up the figure\n",
    "plt.figure(figsize=(10, 8))\n",
    "plt.title('Receiver Operating Characteristic (ROC) Curves')\n",
    "plt.xlabel('False Positive Rate')\n",
    "plt.ylabel('True Positive Rate')\n",
    "plt.plot([0, 1], [0, 1], 'k--', label='Baseline')\n",
    "\n",
    "# Plot each model's ROC curve\n",
    "for (fpr, tpr), model_name in zip(roc_curves, models):\n",
    "    model_auc = auc(fpr, tpr)\n",
    "    plt.plot(fpr, tpr, label=f'{model_name} (AUC = {model_auc:.2f})')\n",
    "\n",
    "plt.legend(loc='lower right')\n",
    "plt.show()"
   ]
  }
 ],
 "metadata": {
  "colab": {
   "include_colab_link": true,
   "provenance": []
  },
  "kernelspec": {
   "display_name": "Python 3 (ipykernel)",
   "language": "python",
   "name": "python3"
  },
  "language_info": {
   "codemirror_mode": {
    "name": "ipython",
    "version": 3
   },
   "file_extension": ".py",
   "mimetype": "text/x-python",
   "name": "python",
   "nbconvert_exporter": "python",
   "pygments_lexer": "ipython3",
   "version": "3.11.5"
  }
 },
 "nbformat": 4,
 "nbformat_minor": 1
}
