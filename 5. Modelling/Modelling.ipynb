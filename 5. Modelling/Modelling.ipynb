{
 "cells": [
  {
   "cell_type": "markdown",
   "metadata": {
    "colab_type": "text",
    "id": "view-in-github"
   },
   "source": [
    "<a href=\"https://colab.research.google.com/github/Dicti93/MLSEM/blob/master/5.%20Modelling/Modelling.ipynb\" target=\"_parent\"><img src=\"https://colab.research.google.com/assets/colab-badge.svg\" alt=\"Open In Colab\"/></a>"
   ]
  },
  {
   "cell_type": "code",
   "execution_count": 1,
   "metadata": {
    "id": "XFsRq6ITWb3O"
   },
   "outputs": [],
   "source": [
    "# Standard imports\n",
    "import pandas as pd\n",
    "import numpy as np\n",
    "import matplotlib.pyplot as plt\n",
    "import seaborn as sns\n",
    "\n",
    "# scikit-learn imports for machine learning\n",
    "from sklearn.model_selection import train_test_split, GridSearchCV, StratifiedKFold\n",
    "from sklearn.linear_model import LogisticRegression\n",
    "from sklearn.metrics import accuracy_score, confusion_matrix, classification_report, roc_curve, auc\n",
    "from sklearn.preprocessing import LabelEncoder, StandardScaler\n",
    "from sklearn.ensemble import RandomForestClassifier, GradientBoostingClassifier\n",
    "from sklearn.impute import SimpleImputer\n",
    "from sklearn.pipeline import make_pipeline, Pipeline\n",
    "from sklearn.svm import SVC\n",
    "from sklearn.model_selection import cross_val_score\n",
    "from sklearn.model_selection import cross_val_predict\n",
    "from sklearn.model_selection import KFold\n",
    "from sklearn.metrics import make_scorer, accuracy_score, precision_score, recall_score, f1_score, roc_auc_score\n",
    "from sklearn.naive_bayes import GaussianNB\n",
    "from sklearn.impute import KNNImputer\n",
    "from sklearn.metrics import average_precision_score, make_scorer\n",
    "from sklearn.base import BaseEstimator, TransformerMixin\n",
    "\n",
    "# Pytorch\n",
    "import torch\n",
    "import torch.nn as nn\n",
    "import torch.optim as optim\n",
    "\n",
    "# Other Libraries\n",
    "from scipy.stats import mstats\n",
    "import copy\n",
    "import tqdm\n",
    "\n",
    "# Display Settings\n",
    "pd.set_option('display.max_columns', None)\n",
    "pd.set_option('display.expand_frame_repr', False)\n",
    "pd.set_option('display.width', 240)\n",
    "\n",
    "# Plotting Function\n",
    "def plot_confusion_matrix(cm, title):\n",
    "    plt.figure(figsize=(5, 3))\n",
    "    sns.heatmap(cm, annot=True, fmt=\"d\", linewidths=.5, cmap=\"Blues\")\n",
    "    plt.ylabel('Actual label')\n",
    "    plt.xlabel('Predicted label')\n",
    "    plt.title(title)\n",
    "    plt.show()\n",
    "\n",
    "# Scorer Functions\n",
    "def sensitivity(y_true, y_pred):\n",
    "    cm = confusion_matrix(y_true, y_pred)\n",
    "    sensitivity = cm[1, 1] / (cm[1, 1] + cm[1, 0])\n",
    "    return sensitivity\n",
    "\n",
    "def specificity(y_true, y_pred):\n",
    "    cm = confusion_matrix(y_true, y_pred)\n",
    "    specificity = cm[0, 0] / (cm[0, 0] + cm[0, 1])\n",
    "    return specificity\n",
    "\n",
    "def auroc_scorer(y_true, y_pred):\n",
    "    return roc_auc_score(y_true, y_pred)\n",
    "\n",
    "def aucpr_scorer(y_true, y_pred):\n",
    "    return average_precision_score(y_true, y_pred)\n",
    "\n",
    "sensitivity_scorer = make_scorer(sensitivity)\n",
    "specificity_scorer = make_scorer(specificity)\n",
    "auroc_scorer = make_scorer(auroc_scorer)\n",
    "aucpr_scorer = make_scorer(aucpr_scorer)\n",
    "\n",
    "# Winsorization Class\n",
    "class Winsorizer(BaseEstimator, TransformerMixin):\n",
    "    def __init__(self, columns=None, lower=0.01, upper=0.99):\n",
    "        self.columns = columns\n",
    "        self.lower = lower\n",
    "        self.upper = upper\n",
    "\n",
    "    def fit(self, X, y=None):\n",
    "        # Keine spezielle Anpassung erforderlich\n",
    "        return self\n",
    "\n",
    "    def transform(self, X):\n",
    "        if self.columns is None:\n",
    "            columns = X.columns\n",
    "        else:\n",
    "            columns = self.columns\n",
    "\n",
    "        X_copy = X.copy()\n",
    "        for col in columns:\n",
    "            X_copy[col] = mstats.winsorize(X_copy[col], limits=[self.lower, self.upper])\n",
    "\n",
    "        return X_copy"
   ]
  },
  {
   "cell_type": "code",
   "execution_count": 2,
   "metadata": {
    "colab": {
     "base_uri": "https://localhost:8080/"
    },
    "id": "huAJ-M1fhvhd",
    "outputId": "51b6993b-d48b-405f-9fb7-7e643126e12d"
   },
   "outputs": [
    {
     "data": {
      "text/plain": [
       "(780, 52)"
      ]
     },
     "execution_count": 2,
     "metadata": {},
     "output_type": "execute_result"
    }
   ],
   "source": [
    "# !wget 'https://raw.githubusercontent.com/Dicti93/MLSEM/master/3.%20Data%20Preparation/clean_data.csv' -O clean_data.csv\n",
    "\n",
    "data = pd.read_csv('modelling_data.csv')\n",
    "data.shape"
   ]
  },
  {
   "cell_type": "code",
   "execution_count": 3,
   "metadata": {},
   "outputs": [],
   "source": [
    "# Features\n",
    "demographic = ['Age', 'Sex', 'Height', 'Weight', 'BMI', 'Length_of_Stay']\n",
    "\n",
    "scoring = ['Alvarado_Score', 'Paedriatic_Appendicitis_Score']\n",
    "\n",
    "clinical = ['Peritonitis', 'Migratory_Pain', 'Lower_Right_Abd_Pain', 'Contralateral_Rebound_Tenderness',\n",
    "            'Ipsilateral_Rebound_Tenderness', 'Coughing_Pain', 'Psoas_Sign', 'Nausea', 'Loss_of_Appetite',\n",
    "            'Body_Temperature', 'Dysuria', 'Stool']\n",
    "\n",
    "laboratory = ['WBC_Count', 'RBC_Count', 'Hemoglobin', 'RDW', 'Thrombocyte_Count', \n",
    "             'Neutrophil_Percentage', 'Neutrophilia', 'Segmented_Neutrophils', \n",
    "             'CRP', 'Ketones_in_Urine', 'RBC_in_Urine', 'WBC_in_Urine']\n",
    "\n",
    "ultrasound = ['US_Performed', 'Appendix_on_US', 'Appendix_Diameter', 'Free_Fluids','Appendix_Wall_Layers', \n",
    "              'Target_Sign', 'Perfusion', 'Surrounding_Tissue_Reaction','Pathological_Lymph_Nodes', \n",
    "              'Lymph_Node_Location', 'Bowel_Wall_Thickening', 'Ileus', 'Coprostasis', 'Meteorism', \n",
    "              'Enteritis', 'Apendicolith', 'Perforation', 'Appendicular_Abscess', 'Abscess_Location', \n",
    "              'Conglomerate_of_Bowel_Loops', 'Gynecological_Findings']\n",
    "\n",
    "continuous = [\n",
    "    \"Age\",\n",
    "    \"Height\",\n",
    "    \"Weight\",\n",
    "    \"BMI\",\n",
    "    \"Length_of_Stay\",\n",
    "    \"Body_Temperature\",\n",
    "    \"WBC_Count\",\n",
    "    \"RBC_Count\",\n",
    "    \"Hemoglobin\",\n",
    "    \"RDW\",\n",
    "    \"Thrombocyte_Count\",\n",
    "    \"Neutrophil_Percentage\",\n",
    "    \"Segmented_Neutrophils\",\n",
    "    \"CRP\",\n",
    "    \"Appendix_Diameter\"\n",
    "]\n",
    "\n",
    "'''\n",
    "extreme_outlier = [\n",
    "    \"BMI\",\n",
    "    \"Body_Temperature\"\n",
    "]\n",
    "'''\n",
    "\n",
    "FEATURES = [\n",
    "    'Appendix_Diameter', \n",
    "    'Length_of_Stay', \n",
    "    'Surrounding_Tissue_Reaction', \n",
    "    'Alvarado_Score', \n",
    "    'Neutrophil_Percentage',\n",
    "    'Appendix_on_US',\n",
    "    'CRP',\n",
    "    'Peritonitis',\n",
    "    'WBC_Count'\n",
    "]\n",
    "\n",
    "TARGET = \"Diagnosis\""
   ]
  },
  {
   "cell_type": "code",
   "execution_count": 4,
   "metadata": {
    "colab": {
     "base_uri": "https://localhost:8080/"
    },
    "id": "_tCXRvGOWgge",
    "outputId": "77c4734a-d033-439c-e25b-381818200277"
   },
   "outputs": [
    {
     "data": {
      "text/plain": [
       "((780, 9), (780,))"
      ]
     },
     "execution_count": 4,
     "metadata": {},
     "output_type": "execute_result"
    }
   ],
   "source": [
    "# X = data.drop('Diagnosis', axis=1)  # Features\n",
    "# y = data['Diagnosis']               # Target variable\n",
    "\n",
    "X = data[FEATURES]\n",
    "y = data[TARGET]\n",
    "\n",
    "X.shape, y.shape"
   ]
  },
  {
   "cell_type": "code",
   "execution_count": 5,
   "metadata": {
    "id": "gjlSZyxyWgeD"
   },
   "outputs": [],
   "source": [
    "# Results storage for confusion matrices, classification reports, and ROC curves\n",
    "models = []\n",
    "accuracy = []\n",
    "accuracy_sd = []\n",
    "sensitivity_list = []\n",
    "sensitivity_sd = []\n",
    "specificity_list = []\n",
    "specificity_sd = []\n",
    "auroc = []\n",
    "auroc_sd = []\n",
    "aucpr = []\n",
    "aucpr_sd = []\n",
    "\n",
    "confusion_matrices = []\n",
    "roc_curves = []"
   ]
  },
  {
   "cell_type": "markdown",
   "metadata": {
    "id": "U6p69RJ2NZNc"
   },
   "source": [
    "## Logistic Regression"
   ]
  },
  {
   "cell_type": "code",
   "execution_count": 6,
   "metadata": {
    "colab": {
     "base_uri": "https://localhost:8080/",
     "height": 524
    },
    "id": "w5I3S4UXNZNe",
    "outputId": "cbc833a3-f528-4992-a4a8-65f1faf971fc"
   },
   "outputs": [
    {
     "name": "stdout",
     "output_type": "stream",
     "text": [
      "10-fold CV:\n",
      "Accuracy: \t 0.905 (± 0.03 )\n",
      "ROC: \t \t 0.903 (± 0.03 )\n",
      "AUCPR: \t \t 0.9 (± 0.02 )\n",
      "Sensitivy: \t 0.912 (± 0.03 )\n",
      "Specificity: \t 0.893 (± 0.0 )\n",
      " \n"
     ]
    },
    {
     "data": {
      "image/png": "[encoded data removed]",
      "text/plain": [
       "<Figure size 500x300 with 2 Axes>"
      ]
     },
     "metadata": {},
     "output_type": "display_data"
    }
   ],
   "source": [
    "# Model & pipeline\n",
    "lr_model = LogisticRegression(max_iter=1000, random_state=123)\n",
    "\n",
    "lr_pipeline = Pipeline([\n",
    "    # ('winsorizer', Winsorizer(columns=extreme_outlier)),\n",
    "    ('scaler', StandardScaler()), \n",
    "    ('imputer', KNNImputer(n_neighbors=5)),\n",
    "    ('classifier', lr_model)\n",
    "])\n",
    "\n",
    "models.append('Logistic Regression')\n",
    "\n",
    "# 10 fold CV\n",
    "splits = 10\n",
    "k_fold = KFold(n_splits=splits, shuffle=True, random_state=123)\n",
    "\n",
    "# Calculate Scores\n",
    "# Confusion Matrix\n",
    "y_pred_cv = cross_val_predict(lr_pipeline, X, y, cv=k_fold)\n",
    "cm_lr = confusion_matrix(y, y_pred_cv)\n",
    "cm_lr = cm_lr / splits\n",
    "cm_lr = np.round(cm_lr,0)\n",
    "cm_lr = cm_lr.astype(int)\n",
    "confusion_matrices.append(cm_lr)\n",
    "\n",
    "# Accuracy\n",
    "cv_scores_accuracy = cross_val_score(lr_pipeline, X, y, cv=k_fold, scoring=\"accuracy\")\n",
    "mean_cv_accuracy = cv_scores_accuracy.mean()\n",
    "sd_cv_accuracy = cv_scores_accuracy.std()\n",
    "accuracy.append(mean_cv_accuracy)\n",
    "accuracy_sd.append(sd_cv_accuracy)\n",
    "\n",
    "# ROC\n",
    "cv_scores_auroc = cross_val_score(lr_pipeline, X, y, cv=k_fold, scoring=auroc_scorer)\n",
    "mean_cv_auroc = cv_scores_auroc.mean()\n",
    "sd_cv_auroc = cv_scores_auroc.std()\n",
    "auroc.append(mean_cv_auroc)\n",
    "auroc_sd.append(sd_cv_auroc)\n",
    "\n",
    "# AUCPR\n",
    "cv_scores_aucpr = cross_val_score(lr_pipeline, X, y, cv=k_fold, scoring=aucpr_scorer)\n",
    "mean_cv_aucpr = cv_scores_aucpr.mean()\n",
    "sd_cv_aucpr = cv_scores_aucpr.std()\n",
    "aucpr.append(mean_cv_aucpr)\n",
    "aucpr_sd.append(sd_cv_aucpr)\n",
    "\n",
    "# Sensitivy\n",
    "cv_scores_sensitivity = cross_val_score(lr_pipeline, X, y, cv=k_fold, scoring=\"recall\")\n",
    "mean_cv_sensitivity = cv_scores_sensitivity.mean()\n",
    "sd_cv_sensitivity = cv_scores_sensitivity.std()\n",
    "sensitivity_list.append(mean_cv_sensitivity)\n",
    "sensitivity_sd.append(sd_cv_sensitivity)\n",
    "\n",
    "# Specificity\n",
    "cv_scores_specificity = cross_val_score(lr_pipeline, X, y, cv=k_fold, scoring=specificity_scorer)\n",
    "mean_cv_specificity = cv_scores_specificity.mean()\n",
    "sd_cv_specificity = mean_cv_specificity.std()\n",
    "specificity_list.append(mean_cv_specificity)\n",
    "specificity_sd.append(sd_cv_specificity)\n",
    "\n",
    "print(\"10-fold CV:\")\n",
    "print(\"Accuracy: \\t\", round(mean_cv_accuracy,3), \"(±\", round(sd_cv_accuracy, 2), \")\")\n",
    "print(\"ROC: \\t \\t\", round(mean_cv_auroc,3), \"(±\", round(sd_cv_auroc, 2), \")\")\n",
    "print(\"AUCPR: \\t \\t\", round(mean_cv_aucpr,3), \"(±\", round(sd_cv_aucpr, 2), \")\")\n",
    "print(\"Sensitivy: \\t\", round(mean_cv_sensitivity,3), \"(±\", round(sd_cv_sensitivity, 2), \")\")\n",
    "print(\"Specificity: \\t\", round(mean_cv_specificity,3), \"(±\", round(sd_cv_specificity, 2), \")\")\n",
    "print(\" \")\n",
    "plot_confusion_matrix(cm_lr, \"Logistic Regression Confusion Matrix\")"
   ]
  },
  {
   "cell_type": "markdown",
   "metadata": {
    "id": "wpExV-aGNZNe"
   },
   "source": [
    "## Naive Bayes Classifier"
   ]
  },
  {
   "cell_type": "code",
   "execution_count": 7,
   "metadata": {},
   "outputs": [
    {
     "name": "stdout",
     "output_type": "stream",
     "text": [
      "10-fold CV:\n",
      "Accuracy: \t 0.827 (± 0.05 )\n",
      "ROC: \t \t 0.836 (± 0.05 )\n",
      "AUCPR: \t \t 0.847 (± 0.05 )\n",
      "Sensitivy: \t 0.785 (± 0.05 )\n",
      "Specificity: \t 0.887 (± 0.0 )\n",
      " \n"
     ]
    },
    {
     "data": {
      "image/png": "[encoded data removed]",
      "text/plain": [
       "<Figure size 500x300 with 2 Axes>"
      ]
     },
     "metadata": {},
     "output_type": "display_data"
    }
   ],
   "source": [
    "# Model & pipeline\n",
    "nb_model = GaussianNB()\n",
    "\n",
    "nb_pipeline = Pipeline([\n",
    "    # ('winsorizer', Winsorizer(columns=extreme_outlier)),\n",
    "    ('scaler', StandardScaler()), \n",
    "    ('imputer', KNNImputer(n_neighbors=5)),\n",
    "    ('classifier', nb_model)\n",
    "])\n",
    "\n",
    "models.append('Naive Bayes')\n",
    "\n",
    "# 10 fold CV\n",
    "splits = 10\n",
    "k_fold = KFold(n_splits=splits, shuffle=True, random_state=123)\n",
    "\n",
    "# Calculate Scores\n",
    "# Confusion Matrix\n",
    "y_pred_cv = cross_val_predict(nb_pipeline, X, y, cv=k_fold)\n",
    "cm_nb = confusion_matrix(y, y_pred_cv)\n",
    "cm_nb = cm_nb / splits\n",
    "cm_nb = np.round(cm_nb,0)\n",
    "cm_nb = cm_nb.astype(int)\n",
    "confusion_matrices.append(cm_nb)\n",
    "\n",
    "# Accuracy\n",
    "cv_scores_accuracy = cross_val_score(nb_pipeline, X, y, cv=k_fold, scoring=\"accuracy\")\n",
    "mean_cv_accuracy = cv_scores_accuracy.mean()\n",
    "sd_cv_accuracy = cv_scores_accuracy.std()\n",
    "accuracy.append(mean_cv_accuracy)\n",
    "accuracy_sd.append(sd_cv_accuracy)\n",
    "\n",
    "# ROC\n",
    "cv_scores_auroc = cross_val_score(nb_pipeline, X, y, cv=k_fold, scoring=auroc_scorer)\n",
    "mean_cv_auroc = cv_scores_auroc.mean()\n",
    "sd_cv_auroc = cv_scores_auroc.std()\n",
    "auroc.append(mean_cv_auroc)\n",
    "auroc_sd.append(sd_cv_auroc)\n",
    "\n",
    "# AUCPR\n",
    "cv_scores_aucpr = cross_val_score(nb_pipeline, X, y, cv=k_fold, scoring=aucpr_scorer)\n",
    "mean_cv_aucpr = cv_scores_aucpr.mean()\n",
    "sd_cv_aucpr = cv_scores_aucpr.std()\n",
    "aucpr.append(mean_cv_aucpr)\n",
    "aucpr_sd.append(sd_cv_aucpr)\n",
    "\n",
    "# Sensitivy\n",
    "cv_scores_sensitivity = cross_val_score(nb_pipeline, X, y, cv=k_fold, scoring=\"recall\")\n",
    "mean_cv_sensitivity = cv_scores_sensitivity.mean()\n",
    "sd_cv_sensitivity = cv_scores_sensitivity.std()\n",
    "sensitivity_list.append(mean_cv_sensitivity)\n",
    "sensitivity_sd.append(sd_cv_sensitivity)\n",
    "\n",
    "# Specificity\n",
    "cv_scores_specificity = cross_val_score(nb_pipeline, X, y, cv=k_fold, scoring=specificity_scorer)\n",
    "mean_cv_specificity = cv_scores_specificity.mean()\n",
    "sd_cv_specificity = mean_cv_specificity.std()\n",
    "specificity_list.append(mean_cv_specificity)\n",
    "specificity_sd.append(sd_cv_specificity)\n",
    "\n",
    "print(\"10-fold CV:\")\n",
    "print(\"Accuracy: \\t\", round(mean_cv_accuracy,3), \"(±\", round(sd_cv_accuracy, 2), \")\")\n",
    "print(\"ROC: \\t \\t\", round(mean_cv_auroc,3), \"(±\", round(sd_cv_auroc, 2), \")\")\n",
    "print(\"AUCPR: \\t \\t\", round(mean_cv_aucpr,3), \"(±\", round(sd_cv_aucpr, 2), \")\")\n",
    "print(\"Sensitivy: \\t\", round(mean_cv_sensitivity,3), \"(±\", round(sd_cv_sensitivity, 2), \")\")\n",
    "print(\"Specificity: \\t\", round(mean_cv_specificity,3), \"(±\", round(sd_cv_specificity, 2), \")\")\n",
    "print(\" \")\n",
    "plot_confusion_matrix(cm_nb, \"Naive Bayes Confusion Matrix\")"
   ]
  },
  {
   "cell_type": "markdown",
   "metadata": {
    "id": "1jm6vlWxNZNf"
   },
   "source": [
    "## Support Vector Machine"
   ]
  },
  {
   "cell_type": "code",
   "execution_count": 8,
   "metadata": {},
   "outputs": [
    {
     "name": "stdout",
     "output_type": "stream",
     "text": [
      "10-fold CV:\n",
      "Accuracy: \t 0.917 (± 0.03 )\n",
      "ROC: \t \t 0.917 (± 0.03 )\n",
      "AUCPR: \t \t 0.918 (± 0.03 )\n",
      "Sensitivy: \t 0.913 (± 0.04 )\n",
      "Specificity: \t 0.922 (± 0.0 )\n",
      " \n"
     ]
    },
    {
     "data": {
      "image/png": "[encoded data removed]",
      "text/plain": [
       "<Figure size 500x300 with 2 Axes>"
      ]
     },
     "metadata": {},
     "output_type": "display_data"
    }
   ],
   "source": [
    "# Model & pipeline\n",
    "svm_model = SVC(kernel='rbf', random_state=123, probability=True)\n",
    "\n",
    "svm_pipeline = Pipeline([\n",
    "    # ('winsorizer', Winsorizer(columns=extreme_outlier)),\n",
    "    ('scaler', StandardScaler()), \n",
    "    ('imputer', KNNImputer(n_neighbors=5)),\n",
    "    ('classifier', svm_model)\n",
    "])\n",
    "\n",
    "models.append('SVM')\n",
    "\n",
    "# 10 fold CV\n",
    "splits = 10\n",
    "k_fold = KFold(n_splits=splits, shuffle=True, random_state=123)\n",
    "\n",
    "# Calculate Scores\n",
    "# Confusion Matrix\n",
    "y_pred_cv = cross_val_predict(svm_pipeline, X, y, cv=k_fold)\n",
    "cm_svm = confusion_matrix(y, y_pred_cv)\n",
    "cm_svm = cm_svm / splits\n",
    "cm_svm = np.round(cm_svm,0)\n",
    "cm_svm = cm_svm.astype(int)\n",
    "confusion_matrices.append(cm_svm)\n",
    "\n",
    "# Accuracy\n",
    "cv_scores_accuracy = cross_val_score(svm_pipeline, X, y, cv=k_fold, scoring=\"accuracy\")\n",
    "mean_cv_accuracy = cv_scores_accuracy.mean()\n",
    "sd_cv_accuracy = cv_scores_accuracy.std()\n",
    "accuracy.append(mean_cv_accuracy)\n",
    "accuracy_sd.append(sd_cv_accuracy)\n",
    "\n",
    "# ROC\n",
    "cv_scores_auroc = cross_val_score(svm_pipeline, X, y, cv=k_fold, scoring=auroc_scorer)\n",
    "mean_cv_auroc = cv_scores_auroc.mean()\n",
    "sd_cv_auroc = cv_scores_auroc.std()\n",
    "auroc.append(mean_cv_auroc)\n",
    "auroc_sd.append(sd_cv_auroc)\n",
    "\n",
    "# AUCPR\n",
    "cv_scores_aucpr = cross_val_score(svm_pipeline, X, y, cv=k_fold, scoring=aucpr_scorer)\n",
    "mean_cv_aucpr = cv_scores_aucpr.mean()\n",
    "sd_cv_aucpr = cv_scores_aucpr.std()\n",
    "aucpr.append(mean_cv_aucpr)\n",
    "aucpr_sd.append(sd_cv_aucpr)\n",
    "\n",
    "# Sensitivy\n",
    "cv_scores_sensitivity = cross_val_score(svm_pipeline, X, y, cv=k_fold, scoring=\"recall\")\n",
    "mean_cv_sensitivity = cv_scores_sensitivity.mean()\n",
    "sd_cv_sensitivity = cv_scores_sensitivity.std()\n",
    "sensitivity_list.append(mean_cv_sensitivity)\n",
    "sensitivity_sd.append(sd_cv_sensitivity)\n",
    "\n",
    "# Specificity\n",
    "cv_scores_specificity = cross_val_score(svm_pipeline, X, y, cv=k_fold, scoring=specificity_scorer)\n",
    "mean_cv_specificity = cv_scores_specificity.mean()\n",
    "sd_cv_specificity = mean_cv_specificity.std()\n",
    "specificity_list.append(mean_cv_specificity)\n",
    "specificity_sd.append(sd_cv_specificity)\n",
    "\n",
    "print(\"10-fold CV:\")\n",
    "print(\"Accuracy: \\t\", round(mean_cv_accuracy,3), \"(±\", round(sd_cv_accuracy, 2), \")\")\n",
    "print(\"ROC: \\t \\t\", round(mean_cv_auroc,3), \"(±\", round(sd_cv_auroc, 2), \")\")\n",
    "print(\"AUCPR: \\t \\t\", round(mean_cv_aucpr,3), \"(±\", round(sd_cv_aucpr, 2), \")\")\n",
    "print(\"Sensitivy: \\t\", round(mean_cv_sensitivity,3), \"(±\", round(sd_cv_sensitivity, 2), \")\")\n",
    "print(\"Specificity: \\t\", round(mean_cv_specificity,3), \"(±\", round(sd_cv_specificity, 2), \")\")\n",
    "print(\" \")\n",
    "plot_confusion_matrix(cm_svm, \"SVM Confusion Matrix\")"
   ]
  },
  {
   "cell_type": "markdown",
   "metadata": {
    "id": "uZO-yJ43NZNg"
   },
   "source": [
    "## Random Forest Classifier"
   ]
  },
  {
   "cell_type": "code",
   "execution_count": 9,
   "metadata": {},
   "outputs": [
    {
     "name": "stdout",
     "output_type": "stream",
     "text": [
      "10-fold CV:\n",
      "Accuracy: \t 0.946 (± 0.03 )\n",
      "ROC: \t \t 0.943 (± 0.04 )\n",
      "AUCPR: \t \t 0.942 (± 0.03 )\n",
      "Sensitivy: \t 0.954 (± 0.02 )\n",
      "Specificity: \t 0.933 (± 0.0 )\n",
      " \n"
     ]
    },
    {
     "data": {
      "image/png": "[encoded data removed]",
      "text/plain": [
       "<Figure size 500x300 with 2 Axes>"
      ]
     },
     "metadata": {},
     "output_type": "display_data"
    }
   ],
   "source": [
    "# Model & pipeline\n",
    "rf_model = RandomForestClassifier(n_estimators=100, random_state=123)\n",
    "\n",
    "rf_pipeline = Pipeline([\n",
    "    # ('winsorizer', Winsorizer(columns=extreme_outlier)),\n",
    "    ('scaler', StandardScaler()), \n",
    "    ('imputer', KNNImputer(n_neighbors=5)),\n",
    "    ('classifier', rf_model)\n",
    "])\n",
    "\n",
    "models.append('Random Forest')\n",
    "\n",
    "# 10 fold CV\n",
    "splits = 10\n",
    "k_fold = KFold(n_splits=splits, shuffle=True, random_state=123)\n",
    "\n",
    "# Calculate Scores\n",
    "# Confusion Matrix\n",
    "y_pred_cv = cross_val_predict(rf_pipeline, X, y, cv=k_fold)\n",
    "cm_rf = confusion_matrix(y, y_pred_cv)\n",
    "cm_rf = cm_rf / splits\n",
    "cm_rf = np.round(cm_rf,0)\n",
    "cm_rf = cm_rf.astype(int)\n",
    "confusion_matrices.append(cm_rf)\n",
    "\n",
    "# Accuracy\n",
    "cv_scores_accuracy = cross_val_score(rf_pipeline, X, y, cv=k_fold, scoring=\"accuracy\")\n",
    "mean_cv_accuracy = cv_scores_accuracy.mean()\n",
    "sd_cv_accuracy = cv_scores_accuracy.std()\n",
    "accuracy.append(mean_cv_accuracy)\n",
    "accuracy_sd.append(sd_cv_accuracy)\n",
    "\n",
    "# ROC\n",
    "cv_scores_auroc = cross_val_score(rf_pipeline, X, y, cv=k_fold, scoring=auroc_scorer)\n",
    "mean_cv_auroc = cv_scores_auroc.mean()\n",
    "sd_cv_auroc = cv_scores_auroc.std()\n",
    "auroc.append(mean_cv_auroc)\n",
    "auroc_sd.append(sd_cv_auroc)\n",
    "\n",
    "# AUCPR\n",
    "cv_scores_aucpr = cross_val_score(rf_pipeline, X, y, cv=k_fold, scoring=aucpr_scorer)\n",
    "mean_cv_aucpr = cv_scores_aucpr.mean()\n",
    "sd_cv_aucpr = cv_scores_aucpr.std()\n",
    "aucpr.append(mean_cv_aucpr)\n",
    "aucpr_sd.append(sd_cv_aucpr)\n",
    "\n",
    "# Sensitivy\n",
    "cv_scores_sensitivity = cross_val_score(rf_pipeline, X, y, cv=k_fold, scoring=\"recall\")\n",
    "mean_cv_sensitivity = cv_scores_sensitivity.mean()\n",
    "sd_cv_sensitivity = cv_scores_sensitivity.std()\n",
    "sensitivity_list.append(mean_cv_sensitivity)\n",
    "sensitivity_sd.append(sd_cv_sensitivity)\n",
    "\n",
    "# Specificity\n",
    "cv_scores_specificity = cross_val_score(rf_pipeline, X, y, cv=k_fold, scoring=specificity_scorer)\n",
    "mean_cv_specificity = cv_scores_specificity.mean()\n",
    "sd_cv_specificity = mean_cv_specificity.std()\n",
    "specificity_list.append(mean_cv_specificity)\n",
    "specificity_sd.append(sd_cv_specificity)\n",
    "\n",
    "print(\"10-fold CV:\")\n",
    "print(\"Accuracy: \\t\", round(mean_cv_accuracy,3), \"(±\", round(sd_cv_accuracy, 2), \")\")\n",
    "print(\"ROC: \\t \\t\", round(mean_cv_auroc,3), \"(±\", round(sd_cv_auroc, 2), \")\")\n",
    "print(\"AUCPR: \\t \\t\", round(mean_cv_aucpr,3), \"(±\", round(sd_cv_aucpr, 2), \")\")\n",
    "print(\"Sensitivy: \\t\", round(mean_cv_sensitivity,3), \"(±\", round(sd_cv_sensitivity, 2), \")\")\n",
    "print(\"Specificity: \\t\", round(mean_cv_specificity,3), \"(±\", round(sd_cv_specificity, 2), \")\")\n",
    "print(\" \")\n",
    "plot_confusion_matrix(cm_rf, \"Random Forest Confusion Matrix\")"
   ]
  },
  {
   "cell_type": "markdown",
   "metadata": {
    "id": "MNoZb1fANZNh"
   },
   "source": [
    "## Gradient Boosting Classifier"
   ]
  },
  {
   "cell_type": "code",
   "execution_count": 10,
   "metadata": {},
   "outputs": [
    {
     "name": "stdout",
     "output_type": "stream",
     "text": [
      "10-fold CV:\n",
      "Accuracy: \t 0.936 (± 0.03 )\n",
      "ROC: \t \t 0.933 (± 0.03 )\n",
      "AUCPR: \t \t 0.932 (± 0.03 )\n",
      "Sensitivy: \t 0.943 (± 0.02 )\n",
      "Specificity: \t 0.924 (± 0.0 )\n",
      " \n"
     ]
    },
    {
     "data": {
      "image/png": "[encoded data removed]",
      "text/plain": [
       "<Figure size 500x300 with 2 Axes>"
      ]
     },
     "metadata": {},
     "output_type": "display_data"
    }
   ],
   "source": [
    "# Model & pipeline\n",
    "gbm_model = GradientBoostingClassifier(n_estimators=100, random_state=123)\n",
    "\n",
    "gbm_pipeline = Pipeline([\n",
    "    # ('winsorizer', Winsorizer(columns=extreme_outlier)),\n",
    "    ('scaler', StandardScaler()), \n",
    "    ('imputer', KNNImputer(n_neighbors=5)),\n",
    "    ('classifier', gbm_model)\n",
    "])\n",
    "\n",
    "models.append('GBM')\n",
    "\n",
    "# 10 fold CV\n",
    "splits = 10\n",
    "k_fold = KFold(n_splits=splits, shuffle=True, random_state=123)\n",
    "\n",
    "# Calculate Scores\n",
    "# Confusion Matrix\n",
    "y_pred_cv = cross_val_predict(gbm_pipeline, X, y, cv=k_fold)\n",
    "cm_gbm = confusion_matrix(y, y_pred_cv)\n",
    "cm_gbm = cm_gbm / splits\n",
    "cm_gbm = np.round(cm_gbm,0)\n",
    "cm_gbm = cm_gbm.astype(int)\n",
    "confusion_matrices.append(cm_gbm)\n",
    "\n",
    "# Accuracy\n",
    "cv_scores_accuracy = cross_val_score(gbm_pipeline, X, y, cv=k_fold, scoring=\"accuracy\")\n",
    "mean_cv_accuracy = cv_scores_accuracy.mean()\n",
    "sd_cv_accuracy = cv_scores_accuracy.std()\n",
    "accuracy.append(mean_cv_accuracy)\n",
    "accuracy_sd.append(sd_cv_accuracy)\n",
    "\n",
    "# ROC\n",
    "cv_scores_auroc = cross_val_score(gbm_pipeline, X, y, cv=k_fold, scoring=auroc_scorer)\n",
    "mean_cv_auroc = cv_scores_auroc.mean()\n",
    "sd_cv_auroc = cv_scores_auroc.std()\n",
    "auroc.append(mean_cv_auroc)\n",
    "auroc_sd.append(sd_cv_auroc)\n",
    "\n",
    "# AUCPR\n",
    "cv_scores_aucpr = cross_val_score(gbm_pipeline, X, y, cv=k_fold, scoring=aucpr_scorer)\n",
    "mean_cv_aucpr = cv_scores_aucpr.mean()\n",
    "sd_cv_aucpr = cv_scores_aucpr.std()\n",
    "aucpr.append(mean_cv_aucpr)\n",
    "aucpr_sd.append(sd_cv_aucpr)\n",
    "\n",
    "# Sensitivy\n",
    "cv_scores_sensitivity = cross_val_score(gbm_pipeline, X, y, cv=k_fold, scoring=\"recall\")\n",
    "mean_cv_sensitivity = cv_scores_sensitivity.mean()\n",
    "sd_cv_sensitivity = cv_scores_sensitivity.std()\n",
    "sensitivity_list.append(mean_cv_sensitivity)\n",
    "sensitivity_sd.append(sd_cv_sensitivity)\n",
    "\n",
    "# Specificity\n",
    "cv_scores_specificity = cross_val_score(gbm_pipeline, X, y, cv=k_fold, scoring=specificity_scorer)\n",
    "mean_cv_specificity = cv_scores_specificity.mean()\n",
    "sd_cv_specificity = mean_cv_specificity.std()\n",
    "specificity_list.append(mean_cv_specificity)\n",
    "specificity_sd.append(sd_cv_specificity)\n",
    "\n",
    "print(\"10-fold CV:\")\n",
    "print(\"Accuracy: \\t\", round(mean_cv_accuracy,3), \"(±\", round(sd_cv_accuracy, 2), \")\")\n",
    "print(\"ROC: \\t \\t\", round(mean_cv_auroc,3), \"(±\", round(sd_cv_auroc, 2), \")\")\n",
    "print(\"AUCPR: \\t \\t\", round(mean_cv_aucpr,3), \"(±\", round(sd_cv_aucpr, 2), \")\")\n",
    "print(\"Sensitivy: \\t\", round(mean_cv_sensitivity,3), \"(±\", round(sd_cv_sensitivity, 2), \")\")\n",
    "print(\"Specificity: \\t\", round(mean_cv_specificity,3), \"(±\", round(sd_cv_specificity, 2), \")\")\n",
    "print(\" \")\n",
    "plot_confusion_matrix(cm_gbm, \"GBM Confusion Matrix\")"
   ]
  },
  {
   "cell_type": "markdown",
   "metadata": {
    "id": "dRccOpdDNZNh"
   },
   "source": [
    "## Neural Network"
   ]
  },
  {
   "cell_type": "code",
   "execution_count": 11,
   "metadata": {},
   "outputs": [
    {
     "name": "stdout",
     "output_type": "stream",
     "text": [
      "10-fold CV:\n",
      "Accuracy: \t 0.928 (± 0.02 )\n",
      "ROC: \t \t 0.966 (± 0.02 )\n",
      "AUCPR: \t \t 0.979 (± 0.01 )\n",
      "Sensitivity: \t 0.931 (± 0.02 )\n",
      "Specificity: \t 0.921 (± 0.06 )\n",
      " \n"
     ]
    }
   ],
   "source": [
    "models.append('Neural Network')\n",
    "\n",
    "# Pipeline\n",
    "nn_pipeline = Pipeline([\n",
    "    ('scaler', StandardScaler()), \n",
    "    ('imputer', KNNImputer(n_neighbors=5))\n",
    "])\n",
    "\n",
    "# Using the pipeline for X and creating tensors\n",
    "X_nn = nn_pipeline.fit_transform(X)\n",
    "\n",
    "X_nn = torch.tensor(X_nn, dtype=torch.float32)\n",
    "y_nn = torch.tensor(y.values.reshape(-1, 1), dtype=torch.float32)\n",
    "\n",
    "# Model\n",
    "class NeuralNetwork(nn.Module):\n",
    "    def __init__(self):\n",
    "        super().__init__()\n",
    "        self.hidden = nn.Linear(9, 128)\n",
    "        self.relu = nn.ReLU()\n",
    "        self.layer2 = nn.Linear(128, 64)\n",
    "        self.act2 = nn.ReLU()\n",
    "        self.output = nn.Linear(64, 1)\n",
    "        self.sigmoid = nn.Sigmoid()\n",
    "        \n",
    "    def forward(self, x):\n",
    "        x = self.relu(self.hidden(x))\n",
    "        x = self.act2(self.layer2(x))\n",
    "        x = self.sigmoid(self.output(x))\n",
    "        return x\n",
    "    \n",
    "def model_train(model, X_train, y_train, X_val, y_val):\n",
    "    \n",
    "    # Loss function (binary cross entropy) and optimizer\n",
    "    loss_func = nn.BCELoss()\n",
    "    optimizer = optim.Adam(model.parameters(), lr=0.0001)\n",
    "    \n",
    "    n_epochs = 50\n",
    "    batch_size = 10\n",
    "    batch_start = torch.arange(0, len(X_train), batch_size)\n",
    "    \n",
    "    best_acc = -np.inf\n",
    "    best_weights = None\n",
    "    best_sensitivity = 0\n",
    "    best_specificity = 0\n",
    "    best_auroc = 0\n",
    "    best_aucpr = 0\n",
    "    \n",
    "    for epoch in range(n_epochs):\n",
    "        model.train()\n",
    "        with tqdm.tqdm(batch_start, unit=\"batch\", mininterval=0, disable=True) as bar:\n",
    "            bar.set_description(f\"Epoch {epoch}\")\n",
    "            for start in bar:\n",
    "                # take a batch\n",
    "                X_batch = X_train[start:start+batch_size]\n",
    "                y_batch = y_train[start:start+batch_size]\n",
    "                # forward pass\n",
    "                y_pred = model(X_batch)\n",
    "                loss = loss_func(y_pred, y_batch)\n",
    "                # backward pass\n",
    "                optimizer.zero_grad()\n",
    "                loss.backward()\n",
    "                # update weights\n",
    "                optimizer.step()\n",
    "                # print progress\n",
    "                acc = (y_pred.round() == y_batch).float().mean()\n",
    "                bar.set_postfix(\n",
    "                    loss=float(loss),\n",
    "                    acc=float(acc)\n",
    "                )\n",
    "        # evaluate accuracy, sensitivity, specificity, AUROC, and AUCPR at end of each epoch\n",
    "        model.eval()\n",
    "        y_pred = model(X_val)\n",
    "        acc = (y_pred.round() == y_val).float().mean()\n",
    "        sensitivity = calculate_sensitivity(y_val, y_pred.round())\n",
    "        specificity = calculate_specificity(y_val, y_pred.round())\n",
    "        auroc = auroc_scorer(y_val, y_pred)\n",
    "        aucpr = aucpr_scorer(y_val, y_pred)\n",
    "        \n",
    "        if acc > best_acc:\n",
    "            best_acc = acc\n",
    "            best_weights = copy.deepcopy(model.state_dict())\n",
    "            best_sensitivity = sensitivity\n",
    "            best_specificity = specificity\n",
    "            best_auroc = auroc\n",
    "            best_aucpr = aucpr\n",
    "            \n",
    "    # restore model and return best accuracy, sensitivity, specificity, AUROC, and AUCPR\n",
    "    model.load_state_dict(best_weights)\n",
    "    return best_acc, best_auroc, best_aucpr, best_sensitivity, best_specificity\n",
    "\n",
    "def calculate_sensitivity(y_true, y_pred):\n",
    "    true_positive = torch.logical_and(y_true == 1, y_pred == 1).sum().item()\n",
    "    actual_positive = (y_true == 1).sum().item()\n",
    "    sensitivity = true_positive / actual_positive if actual_positive != 0 else 0\n",
    "    return sensitivity\n",
    "\n",
    "def calculate_specificity(y_true, y_pred):\n",
    "    true_negative = torch.logical_and(y_true == 0, y_pred == 0).sum().item()\n",
    "    actual_negative = (y_true == 0).sum().item()\n",
    "    specificity = true_negative / actual_negative if actual_negative != 0 else 0\n",
    "    return specificity\n",
    "\n",
    "def auroc_scorer(y_true, y_pred):\n",
    "    return roc_auc_score(y_true.detach().numpy(), y_pred.detach().numpy())\n",
    "\n",
    "def aucpr_scorer(y_true, y_pred):\n",
    "    return average_precision_score(y_true.detach().numpy(), y_pred.detach().numpy())\n",
    "\n",
    "\n",
    "# 10 fold CV\n",
    "splits = 10\n",
    "k_fold = KFold(n_splits=splits, shuffle=True, random_state=123)\n",
    "cv_scores_accuracy = []\n",
    "cv_scores_auroc = []\n",
    "cv_scores_aucpr = []\n",
    "cv_scores_sensitivity = []\n",
    "cv_scores_specificity = []\n",
    "\n",
    "for train, test in k_fold.split(X_nn, y_nn):\n",
    "    model = NeuralNetwork()\n",
    "    results = model_train(model, X_nn[train], y_nn[train], X_nn[test], y_nn[test])\n",
    "    cv_scores_accuracy.append(results[0])\n",
    "    cv_scores_auroc.append(results[1])\n",
    "    cv_scores_aucpr.append(results[2])\n",
    "    cv_scores_sensitivity.append(results[3])\n",
    "    cv_scores_specificity.append(results[4])\n",
    "\n",
    "\n",
    "accuracy.append(np.mean(cv_scores_accuracy))\n",
    "accuracy_sd.append(np.std(cv_scores_accuracy))\n",
    "\n",
    "auroc.append(np.mean(cv_scores_auroc))\n",
    "auroc_sd.append(np.std(cv_scores_auroc))\n",
    "\n",
    "aucpr.append(np.mean(cv_scores_aucpr))\n",
    "aucpr_sd.append(np.std(cv_scores_aucpr))\n",
    "\n",
    "sensitivity_list.append(np.mean(cv_scores_sensitivity))\n",
    "sensitivity_sd.append(np.std(cv_scores_sensitivity))\n",
    "\n",
    "specificity_list.append(np.mean(cv_scores_specificity))\n",
    "specificity_sd.append(np.std(cv_scores_specificity))\n",
    "\n",
    "print(\"10-fold CV:\")\n",
    "print(\"Accuracy: \\t\", round(np.mean(cv_scores_accuracy),3), \"(±\", round(np.std(cv_scores_accuracy), 2), \")\")\n",
    "print(\"ROC: \\t \\t\", round(np.mean(cv_scores_auroc), 3), \"(±\", round(np.std(cv_scores_auroc), 2), \")\")\n",
    "print(\"AUCPR: \\t \\t\", round(np.mean(cv_scores_aucpr), 3), \"(±\", round(np.std(cv_scores_aucpr), 2), \")\")\n",
    "print(\"Sensitivity: \\t\", round(np.mean(cv_scores_sensitivity), 3), \"(±\", round(np.std(cv_scores_sensitivity), 2), \")\")\n",
    "print(\"Specificity: \\t\", round(np.mean(cv_scores_specificity), 3), \"(±\", round(np.std(cv_scores_specificity), 2), \")\")\n",
    "print(\" \")"
   ]
  },
  {
   "cell_type": "markdown",
   "metadata": {
    "id": "T3Vzh-0cNZNi"
   },
   "source": [
    "## Summary & Model Comparison"
   ]
  },
  {
   "cell_type": "code",
   "execution_count": 14,
   "metadata": {
    "colab": {
     "base_uri": "https://localhost:8080/",
     "height": 607
    },
    "id": "duyt3UpcNZNi",
    "outputId": "2533b840-1df3-4b3c-816f-b5e41dd71047"
   },
   "outputs": [
    {
     "data": {
      "image/png": "[encoded data removed]",
      "text/plain": [
       "<Figure size 1000x600 with 1 Axes>"
      ]
     },
     "metadata": {},
     "output_type": "display_data"
    }
   ],
   "source": [
    "colors = sns.color_palette(\"coolwarm\", len(models))\n",
    "\n",
    "metrics = [\"Accuracy\", \"ROC\", \"AUCPR\"]\n",
    "values = [accuracy, auroc, aucpr]\n",
    "\n",
    "data = {\"Model\": models}\n",
    "for metric, metric_values in zip(metrics, values):\n",
    "    data[metric] = metric_values\n",
    "metrics_df = pd.DataFrame(data)\n",
    "\n",
    "metrics_melted = metrics_df.melt(id_vars=\"Model\", var_name=\"Metric\", value_name=\"Value\")\n",
    "\n",
    "plt.figure(figsize=(10, 6))\n",
    "sns.barplot(data=metrics_melted, x=\"Metric\", y=\"Value\", hue=\"Model\", palette=colors)\n",
    "plt.title(\"Model Performance Comparison\")\n",
    "plt.xlabel(\"\")\n",
    "plt.ylabel(\"Score\")\n",
    "plt.xticks(rotation=45)\n",
    "plt.legend(bbox_to_anchor=(1.05, 1), loc='upper left')\n",
    "plt.tight_layout()\n",
    "plt.show()"
   ]
  },
  {
   "cell_type": "code",
   "execution_count": 15,
   "metadata": {
    "colab": {
     "base_uri": "https://localhost:8080/",
     "height": 607
    },
    "id": "nW8xedu5NZNi",
    "outputId": "7df40055-3278-4ff1-c07c-ec25d0ebee83"
   },
   "outputs": [
    {
     "data": {
      "image/png": "[encoded data removed]",
      "text/plain": [
       "<Figure size 1000x600 with 1 Axes>"
      ]
     },
     "metadata": {},
     "output_type": "display_data"
    }
   ],
   "source": [
    "colors = sns.color_palette(\"coolwarm\", len(models))\n",
    "\n",
    "metrics = [\"Sensitivity\", \"Specificity\"]\n",
    "values = [sensitivity_list, specificity_list]\n",
    "\n",
    "data = {\"Model\": models}\n",
    "for metric, metric_values in zip(metrics, values):\n",
    "    data[metric] = metric_values\n",
    "metrics_df = pd.DataFrame(data)\n",
    "\n",
    "metrics_melted = metrics_df.melt(id_vars=\"Model\", var_name=\"Metric\", value_name=\"Value\")\n",
    "\n",
    "plt.figure(figsize=(10, 6))\n",
    "sns.barplot(data=metrics_melted, x=\"Metric\", y=\"Value\", hue=\"Model\", palette=colors)\n",
    "plt.title(\"Model Rates Comparison\")\n",
    "plt.xlabel(\"\")\n",
    "plt.ylabel(\"Score\")\n",
    "plt.xticks(rotation=45)\n",
    "plt.legend(bbox_to_anchor=(1.05, 1), loc='upper left')\n",
    "plt.tight_layout()\n",
    "plt.show()"
   ]
  }
 ],
 "metadata": {
  "colab": {
   "include_colab_link": true,
   "provenance": []
  },
  "kernelspec": {
   "display_name": "Python 3 (ipykernel)",
   "language": "python",
   "name": "python3"
  },
  "language_info": {
   "codemirror_mode": {
    "name": "ipython",
    "version": 3
   },
   "file_extension": ".py",
   "mimetype": "text/x-python",
   "name": "python",
   "nbconvert_exporter": "python",
   "pygments_lexer": "ipython3",
   "version": "3.11.5"
  }
 },
 "nbformat": 4,
 "nbformat_minor": 1
}
